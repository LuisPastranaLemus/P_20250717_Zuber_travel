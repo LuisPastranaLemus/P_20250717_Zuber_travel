{
 "cells": [
  {
   "cell_type": "markdown",
   "id": "7849e41b",
   "metadata": {},
   "source": [
    "#### Feature Engineering  \n",
    "\n",
    "Dataset: \n",
    "- _cabs_clean.csv_\n",
    "- _neighborhoods_clean.csv_\n",
    "- _trips_clean.csv_\n",
    "- _weather_records_clean.csv_\n",
    "\n",
    "Author: Luis Sergio Pastrana Lemus  \n",
    "Date: 2025-07-17"
   ]
  },
  {
   "cell_type": "markdown",
   "id": "19e2428c",
   "metadata": {},
   "source": [
    "# Feature engineering – Zuber Travel Activity Dataset"
   ]
  },
  {
   "cell_type": "markdown",
   "id": "415af0e2",
   "metadata": {},
   "source": [
    "## __1. Libraries__."
   ]
  },
  {
   "cell_type": "code",
   "execution_count": 1,
   "id": "eacf5d9a",
   "metadata": {},
   "outputs": [],
   "source": [
    "from pathlib import Path\n",
    "import sys\n",
    "\n",
    "# Define project root dynamically, gets the current directory from which the notebook belongs and moves one level upper\n",
    "project_root = Path.cwd().parent\n",
    "\n",
    "# Add src to sys.path if it is not already\n",
    "if str(project_root) not in sys.path:\n",
    "\n",
    "    sys.path.append(str(project_root))\n",
    "\n",
    "# Import function directly (more controlled than import *)\n",
    "from src import *\n",
    "\n",
    "from functools import partial\n",
    "from IPython.display import display, HTML\n",
    "import numpy as np\n",
    "import os\n",
    "import pandas as pd"
   ]
  },
  {
   "cell_type": "markdown",
   "id": "3be37b0b",
   "metadata": {},
   "source": [
    "## __2. Path to Data file__."
   ]
  },
  {
   "cell_type": "code",
   "execution_count": 2,
   "id": "7e7a75e0",
   "metadata": {},
   "outputs": [],
   "source": [
    "# Build route to data file and upload\n",
    "data_file_path = project_root / \"data\" / \"processed\" / \"clean\"\n",
    "df_cabs_clean = load_dataset_from_csv(data_file_path, \"cabs_clean.csv\", sep=',', header='infer')\n",
    "df_neighborhoods_clean = load_dataset_from_csv(data_file_path, \"neighborhoods_clean.csv\", sep=',', header='infer')\n",
    "df_trips_clean = load_dataset_from_csv(data_file_path, \"trips_clean.csv\", sep=',', header='infer')\n",
    "df_weather_records_clean = load_dataset_from_csv(data_file_path, \"weather_records_clean.csv\", sep=',', header='infer')"
   ]
  },
  {
   "cell_type": "code",
   "execution_count": 3,
   "id": "db15faef",
   "metadata": {},
   "outputs": [],
   "source": [
    "# Format notebook output\n",
    "format_notebook()"
   ]
  },
  {
   "cell_type": "markdown",
   "id": "1f213604",
   "metadata": {},
   "source": [
    "## __Functions__."
   ]
  },
  {
   "cell_type": "code",
   "execution_count": 4,
   "id": "16edc9f9",
   "metadata": {},
   "outputs": [],
   "source": [
    "# Function for calculating ..."
   ]
  },
  {
   "cell_type": "markdown",
   "id": "c5bc07b2",
   "metadata": {},
   "source": [
    "## 3 __Casting to data types__."
   ]
  },
  {
   "cell_type": "markdown",
   "id": "9e6dc531",
   "metadata": {},
   "source": [
    "#### 3.1 Casting to string data type."
   ]
  },
  {
   "cell_type": "code",
   "execution_count": 5,
   "id": "daea6493",
   "metadata": {},
   "outputs": [
    {
     "data": {
      "text/plain": [
       "string[python]"
      ]
     },
     "execution_count": 5,
     "metadata": {},
     "output_type": "execute_result"
    }
   ],
   "source": [
    "# df_cabs_clean 'vehicle_id' to string\n",
    "df_cabs_clean['vehicle_id'] = df_cabs_clean['vehicle_id'].astype('string')\n",
    "df_cabs_clean['vehicle_id'].dtypes"
   ]
  },
  {
   "cell_type": "code",
   "execution_count": 6,
   "id": "8a7ee95a",
   "metadata": {},
   "outputs": [
    {
     "data": {
      "text/plain": [
       "string[python]"
      ]
     },
     "execution_count": 6,
     "metadata": {},
     "output_type": "execute_result"
    }
   ],
   "source": [
    "# df_cabs_clean 'company_name' to string\n",
    "df_cabs_clean['company_name'] = df_cabs_clean['company_name'].astype('string')\n",
    "df_cabs_clean['company_name'].dtypes"
   ]
  },
  {
   "cell_type": "code",
   "execution_count": 7,
   "id": "c4a691d1",
   "metadata": {},
   "outputs": [
    {
     "data": {
      "text/plain": [
       "string[python]"
      ]
     },
     "execution_count": 7,
     "metadata": {},
     "output_type": "execute_result"
    }
   ],
   "source": [
    "# df_neighborhoods_clean 'name' to string\n",
    "df_neighborhoods_clean['name'] = df_neighborhoods_clean['name'].astype('string')\n",
    "df_neighborhoods_clean['name'].dtypes"
   ]
  },
  {
   "cell_type": "code",
   "execution_count": 8,
   "id": "2e7ac6a7",
   "metadata": {},
   "outputs": [
    {
     "data": {
      "text/plain": [
       "string[python]"
      ]
     },
     "execution_count": 8,
     "metadata": {},
     "output_type": "execute_result"
    }
   ],
   "source": [
    "# df_weather_records_clean 'description' to string\n",
    "df_weather_records_clean['description'] = df_weather_records_clean['description'].astype('string')\n",
    "df_weather_records_clean['description'].dtypes"
   ]
  },
  {
   "cell_type": "markdown",
   "id": "6085e5f2",
   "metadata": {},
   "source": [
    "#### 3.2 Casting to category data type."
   ]
  },
  {
   "cell_type": "code",
   "execution_count": 9,
   "id": "2e5c54fe",
   "metadata": {},
   "outputs": [
    {
     "data": {
      "text/plain": [
       "CategoricalDtype(categories=['4623_27290_jay_kim', 'blue_ribbon_taxi_association_inc', 'chicago_independents', 'chicago_medallion_leasing_inc',\n",
       "                  'chicago_medallion_management', 'choice_taxi_association', 'dispatch_taxi_affiliation', 'koam_taxi_association',\n",
       "                  'star_north_management_llc', 'taxi_affiliation_services_yellow', 'top_cab_affiliation'],\n",
       ", ordered=False, categories_dtype=string)"
      ]
     },
     "execution_count": 9,
     "metadata": {},
     "output_type": "execute_result"
    }
   ],
   "source": [
    "# df_cabs_clean 'company_name' to category\n",
    "df_cabs_clean['company_name'] = df_cabs_clean['company_name'].astype('category')\n",
    "df_cabs_clean['company_name'].dtypes"
   ]
  },
  {
   "cell_type": "code",
   "execution_count": 10,
   "id": "b24d8ef5",
   "metadata": {},
   "outputs": [
    {
     "data": {
      "text/plain": [
       "CategoricalDtype(categories=['broken_clouds', 'drizzle', 'few_clouds', 'fog', 'haze', 'heavy_intensity_rain', 'light_intensity_drizzle', 'light_rain',\n",
       "                  'light_snow', 'mist', 'moderate_rain', 'overcast_clouds', 'proximity_thunderstorm', 'proximity_thunderstorm_with_rain',\n",
       "                  'scattered_clouds', 'sky_is_clear', 'thunderstorm_with_drizzle', 'thunderstorm_with_light_rain', 'thunderstorm_with_rain'],\n",
       ", ordered=False, categories_dtype=string)"
      ]
     },
     "execution_count": 10,
     "metadata": {},
     "output_type": "execute_result"
    }
   ],
   "source": [
    "# df_weather_records_clean 'description' to category\n",
    "df_weather_records_clean['description'] = df_weather_records_clean['description'].astype('category')\n",
    "df_weather_records_clean['description'].dtypes"
   ]
  },
  {
   "cell_type": "markdown",
   "id": "329c690f",
   "metadata": {},
   "source": [
    "#### 3.3 Casting to datetime data type."
   ]
  },
  {
   "cell_type": "code",
   "execution_count": 11,
   "id": "16759e14",
   "metadata": {},
   "outputs": [
    {
     "data": {
      "text/plain": [
       "datetime64[ns, UTC]"
      ]
     },
     "execution_count": 11,
     "metadata": {},
     "output_type": "execute_result"
    }
   ],
   "source": [
    "# df_trips_clean 'start_ts' to datetime\n",
    "df_trips_clean = normalize_datetime(df_trips_clean, include=['start_ts'], frmt='%Y-%m-%d %H:%M:%S%z')\n",
    "df_trips_clean['start_ts'].dtypes"
   ]
  },
  {
   "cell_type": "code",
   "execution_count": 12,
   "id": "23f34f5d",
   "metadata": {},
   "outputs": [
    {
     "data": {
      "text/plain": [
       "datetime64[ns, UTC]"
      ]
     },
     "execution_count": 12,
     "metadata": {},
     "output_type": "execute_result"
    }
   ],
   "source": [
    "# df_trips_clean 'end_ts' to datetime\n",
    "df_trips_clean = normalize_datetime(df_trips_clean, include=['end_ts'], frmt='%Y-%m-%d %H:%M:%S%z')\n",
    "df_trips_clean['end_ts'].dtypes"
   ]
  },
  {
   "cell_type": "code",
   "execution_count": 13,
   "id": "a3b68444",
   "metadata": {},
   "outputs": [
    {
     "data": {
      "text/plain": [
       "datetime64[ns, UTC]"
      ]
     },
     "execution_count": 13,
     "metadata": {},
     "output_type": "execute_result"
    }
   ],
   "source": [
    "# df_weather_records_clean 'date_and_time' to datetime\n",
    "df_weather_records_clean = normalize_datetime(df_weather_records_clean, include=['date_and_time'], frmt='%Y-%m-%d %H:%M:%S%z')\n",
    "df_weather_records_clean['date_and_time'].dtypes"
   ]
  },
  {
   "cell_type": "markdown",
   "id": "166c6add",
   "metadata": {},
   "source": [
    "## 4. Feature Engineering."
   ]
  },
  {
   "cell_type": "markdown",
   "id": "d97e720a",
   "metadata": {},
   "source": [
    "### 4.1 Patterns or trends that exist in ride frequency, location or time of day."
   ]
  },
  {
   "cell_type": "markdown",
   "id": "a92ccf8f",
   "metadata": {},
   "source": [
    "### 4.1 Patterns or trends that exist in ride frequency, location or time of day."
   ]
  },
  {
   "cell_type": "markdown",
   "id": "511db52e",
   "metadata": {},
   "source": [
    "#### 4.1.1 Ride frequency - location."
   ]
  },
  {
   "cell_type": "code",
   "execution_count": 14,
   "id": "1e4d59ee",
   "metadata": {},
   "outputs": [],
   "source": [
    "df_ride_frequency_location = df_trips_clean.loc[:, ['trip_id', 'cab_id', 'pickup_location_id', 'dropoff_location_id']]\n"
   ]
  },
  {
   "cell_type": "code",
   "execution_count": 15,
   "id": "5bd21a5a",
   "metadata": {},
   "outputs": [
    {
     "data": {
      "application/vnd.microsoft.datawrangler.viewer.v0+json": {
       "columns": [
        {
         "name": "index",
         "rawType": "int64",
         "type": "integer"
        },
        {
         "name": "neighborhood_id",
         "rawType": "int64",
         "type": "integer"
        },
        {
         "name": "trip_count",
         "rawType": "int64",
         "type": "integer"
        }
       ],
       "ref": "58922f24-de46-40e6-b354-dadb20d0bc8a",
       "rows": [
        [
         "0",
         "0",
         "7"
        ],
        [
         "1",
         "1",
         "5"
        ],
        [
         "2",
         "2",
         "5"
        ],
        [
         "3",
         "3",
         "6"
        ],
        [
         "4",
         "4",
         "2"
        ],
        [
         "5",
         "5",
         "5"
        ],
        [
         "6",
         "6",
         "8"
        ],
        [
         "7",
         "7",
         "5"
        ],
        [
         "8",
         "8",
         "4"
        ],
        [
         "9",
         "9",
         "9"
        ],
        [
         "10",
         "10",
         "5"
        ],
        [
         "11",
         "11",
         "6"
        ],
        [
         "12",
         "12",
         "5"
        ],
        [
         "13",
         "13",
         "7"
        ],
        [
         "14",
         "14",
         "4"
        ],
        [
         "15",
         "15",
         "5"
        ],
        [
         "16",
         "16",
         "10"
        ],
        [
         "17",
         "17",
         "5"
        ],
        [
         "18",
         "18",
         "3"
        ],
        [
         "19",
         "19",
         "4"
        ],
        [
         "20",
         "20",
         "1"
        ],
        [
         "21",
         "21",
         "2"
        ],
        [
         "22",
         "22",
         "2"
        ],
        [
         "23",
         "23",
         "2"
        ],
        [
         "24",
         "24",
         "2"
        ],
        [
         "25",
         "25",
         "1"
        ],
        [
         "26",
         "26",
         "2"
        ],
        [
         "27",
         "27",
         "4"
        ],
        [
         "28",
         "28",
         "2"
        ],
        [
         "29",
         "29",
         "2"
        ],
        [
         "30",
         "30",
         "1"
        ],
        [
         "31",
         "31",
         "1"
        ],
        [
         "32",
         "32",
         "2"
        ],
        [
         "33",
         "33",
         "1"
        ],
        [
         "34",
         "34",
         "3"
        ],
        [
         "35",
         "35",
         "2"
        ],
        [
         "36",
         "36",
         "2"
        ],
        [
         "37",
         "37",
         "3"
        ],
        [
         "38",
         "38",
         "2"
        ],
        [
         "39",
         "39",
         "7"
        ],
        [
         "40",
         "40",
         "1"
        ],
        [
         "41",
         "41",
         "1"
        ],
        [
         "42",
         "42",
         "3"
        ],
        [
         "43",
         "43",
         "1"
        ],
        [
         "44",
         "44",
         "5"
        ],
        [
         "45",
         "45",
         "4"
        ],
        [
         "46",
         "46",
         "6"
        ],
        [
         "47",
         "47",
         "2"
        ],
        [
         "48",
         "48",
         "1"
        ],
        [
         "49",
         "49",
         "1"
        ]
       ],
       "shape": {
        "columns": 2,
        "rows": 67
       }
      },
      "text/html": [
       "<div>\n",
       "<style scoped>\n",
       "    .dataframe tbody tr th:only-of-type {\n",
       "        vertical-align: middle;\n",
       "    }\n",
       "\n",
       "    .dataframe tbody tr th {\n",
       "        vertical-align: top;\n",
       "    }\n",
       "\n",
       "    .dataframe thead th {\n",
       "        text-align: right;\n",
       "    }\n",
       "</style>\n",
       "<table border=\"1\" class=\"dataframe\">\n",
       "  <thead>\n",
       "    <tr style=\"text-align: right;\">\n",
       "      <th></th>\n",
       "      <th>neighborhood_id</th>\n",
       "      <th>trip_count</th>\n",
       "    </tr>\n",
       "  </thead>\n",
       "  <tbody>\n",
       "    <tr>\n",
       "      <th>0</th>\n",
       "      <td>0</td>\n",
       "      <td>7</td>\n",
       "    </tr>\n",
       "    <tr>\n",
       "      <th>1</th>\n",
       "      <td>1</td>\n",
       "      <td>5</td>\n",
       "    </tr>\n",
       "    <tr>\n",
       "      <th>2</th>\n",
       "      <td>2</td>\n",
       "      <td>5</td>\n",
       "    </tr>\n",
       "    <tr>\n",
       "      <th>3</th>\n",
       "      <td>3</td>\n",
       "      <td>6</td>\n",
       "    </tr>\n",
       "    <tr>\n",
       "      <th>4</th>\n",
       "      <td>4</td>\n",
       "      <td>2</td>\n",
       "    </tr>\n",
       "    <tr>\n",
       "      <th>...</th>\n",
       "      <td>...</td>\n",
       "      <td>...</td>\n",
       "    </tr>\n",
       "    <tr>\n",
       "      <th>62</th>\n",
       "      <td>82</td>\n",
       "      <td>1</td>\n",
       "    </tr>\n",
       "    <tr>\n",
       "      <th>63</th>\n",
       "      <td>85</td>\n",
       "      <td>1</td>\n",
       "    </tr>\n",
       "    <tr>\n",
       "      <th>64</th>\n",
       "      <td>87</td>\n",
       "      <td>1</td>\n",
       "    </tr>\n",
       "    <tr>\n",
       "      <th>65</th>\n",
       "      <td>88</td>\n",
       "      <td>1</td>\n",
       "    </tr>\n",
       "    <tr>\n",
       "      <th>66</th>\n",
       "      <td>92</td>\n",
       "      <td>1</td>\n",
       "    </tr>\n",
       "  </tbody>\n",
       "</table>\n",
       "<p>67 rows × 2 columns</p>\n",
       "</div>"
      ],
      "text/plain": [
       "    neighborhood_id  trip_count\n",
       "0                 0           7\n",
       "1                 1           5\n",
       "2                 2           5\n",
       "3                 3           6\n",
       "4                 4           2\n",
       "..              ...         ...\n",
       "62               82           1\n",
       "63               85           1\n",
       "64               87           1\n",
       "65               88           1\n",
       "66               92           1\n",
       "\n",
       "[67 rows x 2 columns]"
      ]
     },
     "execution_count": 15,
     "metadata": {},
     "output_type": "execute_result"
    }
   ],
   "source": [
    "# Dropoff location frequency ride\n",
    "df_ride_frequency_location_dropoff = df_ride_frequency_location.groupby('dropoff_location_id')['trip_id'].count()\n",
    "df_ride_frequency_location_dropoff = df_ride_frequency_location_dropoff.reset_index().rename(columns={'dropoff_location_id': 'neighborhood_id', \n",
    "                                                                                                      'trip_id': 'trip_count'})\n",
    "df_ride_frequency_location_dropoff"
   ]
  },
  {
   "cell_type": "code",
   "execution_count": 16,
   "id": "bae42efa",
   "metadata": {},
   "outputs": [
    {
     "data": {
      "application/vnd.microsoft.datawrangler.viewer.v0+json": {
       "columns": [
        {
         "name": "index",
         "rawType": "int64",
         "type": "integer"
        },
        {
         "name": "neighborhood_id",
         "rawType": "int64",
         "type": "integer"
        },
        {
         "name": "trip_count",
         "rawType": "int64",
         "type": "integer"
        },
        {
         "name": "name",
         "rawType": "string",
         "type": "string"
        }
       ],
       "ref": "5a5ed526-82ca-40ac-9505-479f7c447efb",
       "rows": [
        [
         "0",
         "0",
         "7",
         "albany_park"
        ],
        [
         "1",
         "1",
         "5",
         "andersonville"
        ],
        [
         "2",
         "2",
         "5",
         "archer_heights"
        ],
        [
         "3",
         "3",
         "6",
         "armour_square"
        ],
        [
         "4",
         "4",
         "2",
         "ashburn"
        ],
        [
         "5",
         "5",
         "5",
         "auburn_gresham"
        ],
        [
         "6",
         "6",
         "8",
         "austin"
        ],
        [
         "7",
         "7",
         "5",
         "avalon_park"
        ],
        [
         "8",
         "8",
         "4",
         "avondale"
        ],
        [
         "9",
         "9",
         "9",
         "belmont_cragin"
        ],
        [
         "10",
         "10",
         "5",
         "beverly"
        ],
        [
         "11",
         "11",
         "6",
         "boystown"
        ],
        [
         "12",
         "12",
         "5",
         "bridgeport"
        ],
        [
         "13",
         "13",
         "7",
         "brighton_park"
        ],
        [
         "14",
         "14",
         "4",
         "bucktown"
        ],
        [
         "15",
         "15",
         "5",
         "burnside"
        ],
        [
         "16",
         "16",
         "10",
         "calumet_heights"
        ],
        [
         "17",
         "17",
         "5",
         "chatham"
        ],
        [
         "18",
         "18",
         "3",
         "chicago_lawn"
        ],
        [
         "19",
         "19",
         "4",
         "chinatown"
        ],
        [
         "20",
         "20",
         "1",
         "clearing"
        ],
        [
         "21",
         "21",
         "2",
         "douglas"
        ],
        [
         "22",
         "22",
         "2",
         "dunning"
        ],
        [
         "23",
         "23",
         "2",
         "east_side"
        ],
        [
         "24",
         "24",
         "2",
         "east_village"
        ],
        [
         "25",
         "25",
         "1",
         "edgewater"
        ],
        [
         "26",
         "26",
         "2",
         "edison_park"
        ],
        [
         "27",
         "27",
         "4",
         "englewood"
        ],
        [
         "28",
         "28",
         "2",
         "fuller_park"
        ],
        [
         "29",
         "29",
         "2",
         "gage_park"
        ],
        [
         "30",
         "30",
         "1",
         "garfield_park"
        ],
        [
         "31",
         "31",
         "1",
         "garfield_ridge"
        ],
        [
         "32",
         "32",
         "2",
         "gold_coast"
        ],
        [
         "33",
         "33",
         "1",
         "grand_boulevard"
        ],
        [
         "34",
         "34",
         "3",
         "grand_crossing"
        ],
        [
         "35",
         "35",
         "2",
         "grant_park"
        ],
        [
         "36",
         "36",
         "2",
         "hegewisch"
        ],
        [
         "37",
         "37",
         "3",
         "hermosa"
        ],
        [
         "38",
         "38",
         "2",
         "humboldt_park"
        ],
        [
         "39",
         "39",
         "7",
         "hyde_park"
        ],
        [
         "40",
         "40",
         "1",
         "irving_park"
        ],
        [
         "41",
         "41",
         "1",
         "jackson_park"
        ],
        [
         "42",
         "42",
         "3",
         "jefferson_park"
        ],
        [
         "43",
         "43",
         "1",
         "kenwood"
        ],
        [
         "44",
         "44",
         "5",
         "lake_view"
        ],
        [
         "45",
         "45",
         "4",
         "lincoln_park"
        ],
        [
         "46",
         "46",
         "6",
         "lincoln_square"
        ],
        [
         "47",
         "47",
         "2",
         "little_italy_uic"
        ],
        [
         "48",
         "48",
         "1",
         "little_village"
        ],
        [
         "49",
         "49",
         "1",
         "logan_square"
        ]
       ],
       "shape": {
        "columns": 3,
        "rows": 67
       }
      },
      "text/html": [
       "<div>\n",
       "<style scoped>\n",
       "    .dataframe tbody tr th:only-of-type {\n",
       "        vertical-align: middle;\n",
       "    }\n",
       "\n",
       "    .dataframe tbody tr th {\n",
       "        vertical-align: top;\n",
       "    }\n",
       "\n",
       "    .dataframe thead th {\n",
       "        text-align: right;\n",
       "    }\n",
       "</style>\n",
       "<table border=\"1\" class=\"dataframe\">\n",
       "  <thead>\n",
       "    <tr style=\"text-align: right;\">\n",
       "      <th></th>\n",
       "      <th>neighborhood_id</th>\n",
       "      <th>trip_count</th>\n",
       "      <th>name</th>\n",
       "    </tr>\n",
       "  </thead>\n",
       "  <tbody>\n",
       "    <tr>\n",
       "      <th>0</th>\n",
       "      <td>0</td>\n",
       "      <td>7</td>\n",
       "      <td>albany_park</td>\n",
       "    </tr>\n",
       "    <tr>\n",
       "      <th>1</th>\n",
       "      <td>1</td>\n",
       "      <td>5</td>\n",
       "      <td>andersonville</td>\n",
       "    </tr>\n",
       "    <tr>\n",
       "      <th>2</th>\n",
       "      <td>2</td>\n",
       "      <td>5</td>\n",
       "      <td>archer_heights</td>\n",
       "    </tr>\n",
       "    <tr>\n",
       "      <th>3</th>\n",
       "      <td>3</td>\n",
       "      <td>6</td>\n",
       "      <td>armour_square</td>\n",
       "    </tr>\n",
       "    <tr>\n",
       "      <th>4</th>\n",
       "      <td>4</td>\n",
       "      <td>2</td>\n",
       "      <td>ashburn</td>\n",
       "    </tr>\n",
       "    <tr>\n",
       "      <th>...</th>\n",
       "      <td>...</td>\n",
       "      <td>...</td>\n",
       "      <td>...</td>\n",
       "    </tr>\n",
       "    <tr>\n",
       "      <th>62</th>\n",
       "      <td>82</td>\n",
       "      <td>1</td>\n",
       "      <td>uptown</td>\n",
       "    </tr>\n",
       "    <tr>\n",
       "      <th>63</th>\n",
       "      <td>85</td>\n",
       "      <td>1</td>\n",
       "      <td>west_elsdon</td>\n",
       "    </tr>\n",
       "    <tr>\n",
       "      <th>64</th>\n",
       "      <td>87</td>\n",
       "      <td>1</td>\n",
       "      <td>west_loop</td>\n",
       "    </tr>\n",
       "    <tr>\n",
       "      <th>65</th>\n",
       "      <td>88</td>\n",
       "      <td>1</td>\n",
       "      <td>west_pullman</td>\n",
       "    </tr>\n",
       "    <tr>\n",
       "      <th>66</th>\n",
       "      <td>92</td>\n",
       "      <td>1</td>\n",
       "      <td>woodlawn</td>\n",
       "    </tr>\n",
       "  </tbody>\n",
       "</table>\n",
       "<p>67 rows × 3 columns</p>\n",
       "</div>"
      ],
      "text/plain": [
       "    neighborhood_id  trip_count            name\n",
       "0                 0           7     albany_park\n",
       "1                 1           5   andersonville\n",
       "2                 2           5  archer_heights\n",
       "3                 3           6   armour_square\n",
       "4                 4           2         ashburn\n",
       "..              ...         ...             ...\n",
       "62               82           1          uptown\n",
       "63               85           1     west_elsdon\n",
       "64               87           1       west_loop\n",
       "65               88           1    west_pullman\n",
       "66               92           1        woodlawn\n",
       "\n",
       "[67 rows x 3 columns]"
      ]
     },
     "execution_count": 16,
     "metadata": {},
     "output_type": "execute_result"
    }
   ],
   "source": [
    "df_ride_frequency_location_dropoff = df_ride_frequency_location_dropoff.merge(df_neighborhoods_clean, on='neighborhood_id', how='left')\n",
    "df_ride_frequency_location_dropoff"
   ]
  },
  {
   "cell_type": "code",
   "execution_count": 17,
   "id": "e6606df2",
   "metadata": {},
   "outputs": [],
   "source": [
    "project_root = Path.cwd().parent\n",
    "processed_path = project_root / \"data\" / \"processed\" / \"feature\" / \"ride_frequency_location_dropoff_feature.csv\"\n",
    "\n",
    "df_ride_frequency_location_dropoff.to_csv(processed_path, index=False)"
   ]
  },
  {
   "cell_type": "code",
   "execution_count": 18,
   "id": "4f941d19",
   "metadata": {},
   "outputs": [
    {
     "data": {
      "application/vnd.microsoft.datawrangler.viewer.v0+json": {
       "columns": [
        {
         "name": "index",
         "rawType": "int64",
         "type": "integer"
        },
        {
         "name": "neighborhood_id",
         "rawType": "int64",
         "type": "integer"
        },
        {
         "name": "trip_count",
         "rawType": "int64",
         "type": "integer"
        }
       ],
       "ref": "25ffe745-d4bc-4a23-8bc1-ab24b64ba8d8",
       "rows": [
        [
         "0",
         "0",
         "5"
        ],
        [
         "1",
         "1",
         "2"
        ],
        [
         "2",
         "2",
         "2"
        ],
        [
         "3",
         "3",
         "2"
        ],
        [
         "4",
         "4",
         "3"
        ],
        [
         "5",
         "5",
         "8"
        ],
        [
         "6",
         "6",
         "8"
        ],
        [
         "7",
         "7",
         "5"
        ],
        [
         "8",
         "8",
         "2"
        ],
        [
         "9",
         "9",
         "5"
        ],
        [
         "10",
         "10",
         "7"
        ],
        [
         "11",
         "11",
         "5"
        ],
        [
         "12",
         "12",
         "6"
        ],
        [
         "13",
         "13",
         "7"
        ],
        [
         "14",
         "14",
         "6"
        ],
        [
         "15",
         "15",
         "9"
        ],
        [
         "16",
         "16",
         "6"
        ],
        [
         "17",
         "17",
         "4"
        ],
        [
         "18",
         "18",
         "7"
        ],
        [
         "19",
         "19",
         "3"
        ],
        [
         "20",
         "20",
         "10"
        ],
        [
         "21",
         "21",
         "3"
        ],
        [
         "22",
         "22",
         "3"
        ],
        [
         "23",
         "24",
         "2"
        ],
        [
         "24",
         "25",
         "3"
        ],
        [
         "25",
         "26",
         "2"
        ],
        [
         "26",
         "27",
         "1"
        ],
        [
         "27",
         "28",
         "4"
        ],
        [
         "28",
         "30",
         "1"
        ],
        [
         "29",
         "31",
         "2"
        ],
        [
         "30",
         "32",
         "2"
        ],
        [
         "31",
         "33",
         "1"
        ],
        [
         "32",
         "34",
         "4"
        ],
        [
         "33",
         "35",
         "2"
        ],
        [
         "34",
         "36",
         "2"
        ],
        [
         "35",
         "37",
         "3"
        ],
        [
         "36",
         "38",
         "1"
        ],
        [
         "37",
         "39",
         "4"
        ],
        [
         "38",
         "40",
         "3"
        ],
        [
         "39",
         "41",
         "1"
        ],
        [
         "40",
         "42",
         "3"
        ],
        [
         "41",
         "43",
         "3"
        ],
        [
         "42",
         "45",
         "5"
        ],
        [
         "43",
         "46",
         "1"
        ],
        [
         "44",
         "47",
         "2"
        ],
        [
         "45",
         "48",
         "2"
        ],
        [
         "46",
         "49",
         "4"
        ],
        [
         "47",
         "50",
         "3"
        ],
        [
         "48",
         "51",
         "2"
        ],
        [
         "49",
         "55",
         "1"
        ]
       ],
       "shape": {
        "columns": 2,
        "rows": 66
       }
      },
      "text/html": [
       "<div>\n",
       "<style scoped>\n",
       "    .dataframe tbody tr th:only-of-type {\n",
       "        vertical-align: middle;\n",
       "    }\n",
       "\n",
       "    .dataframe tbody tr th {\n",
       "        vertical-align: top;\n",
       "    }\n",
       "\n",
       "    .dataframe thead th {\n",
       "        text-align: right;\n",
       "    }\n",
       "</style>\n",
       "<table border=\"1\" class=\"dataframe\">\n",
       "  <thead>\n",
       "    <tr style=\"text-align: right;\">\n",
       "      <th></th>\n",
       "      <th>neighborhood_id</th>\n",
       "      <th>trip_count</th>\n",
       "    </tr>\n",
       "  </thead>\n",
       "  <tbody>\n",
       "    <tr>\n",
       "      <th>0</th>\n",
       "      <td>0</td>\n",
       "      <td>5</td>\n",
       "    </tr>\n",
       "    <tr>\n",
       "      <th>1</th>\n",
       "      <td>1</td>\n",
       "      <td>2</td>\n",
       "    </tr>\n",
       "    <tr>\n",
       "      <th>2</th>\n",
       "      <td>2</td>\n",
       "      <td>2</td>\n",
       "    </tr>\n",
       "    <tr>\n",
       "      <th>3</th>\n",
       "      <td>3</td>\n",
       "      <td>2</td>\n",
       "    </tr>\n",
       "    <tr>\n",
       "      <th>4</th>\n",
       "      <td>4</td>\n",
       "      <td>3</td>\n",
       "    </tr>\n",
       "    <tr>\n",
       "      <th>...</th>\n",
       "      <td>...</td>\n",
       "      <td>...</td>\n",
       "    </tr>\n",
       "    <tr>\n",
       "      <th>61</th>\n",
       "      <td>82</td>\n",
       "      <td>1</td>\n",
       "    </tr>\n",
       "    <tr>\n",
       "      <th>62</th>\n",
       "      <td>85</td>\n",
       "      <td>1</td>\n",
       "    </tr>\n",
       "    <tr>\n",
       "      <th>63</th>\n",
       "      <td>87</td>\n",
       "      <td>1</td>\n",
       "    </tr>\n",
       "    <tr>\n",
       "      <th>64</th>\n",
       "      <td>90</td>\n",
       "      <td>1</td>\n",
       "    </tr>\n",
       "    <tr>\n",
       "      <th>65</th>\n",
       "      <td>93</td>\n",
       "      <td>1</td>\n",
       "    </tr>\n",
       "  </tbody>\n",
       "</table>\n",
       "<p>66 rows × 2 columns</p>\n",
       "</div>"
      ],
      "text/plain": [
       "    neighborhood_id  trip_count\n",
       "0                 0           5\n",
       "1                 1           2\n",
       "2                 2           2\n",
       "3                 3           2\n",
       "4                 4           3\n",
       "..              ...         ...\n",
       "61               82           1\n",
       "62               85           1\n",
       "63               87           1\n",
       "64               90           1\n",
       "65               93           1\n",
       "\n",
       "[66 rows x 2 columns]"
      ]
     },
     "execution_count": 18,
     "metadata": {},
     "output_type": "execute_result"
    }
   ],
   "source": [
    "# Pickup location frequency ride\n",
    "df_ride_frequency_location_pickup = df_ride_frequency_location.groupby('pickup_location_id')['trip_id'].count()\n",
    "df_ride_frequency_location_pickup = df_ride_frequency_location_pickup.reset_index().rename(columns={'pickup_location_id': 'neighborhood_id', \n",
    "                                                                                                    'trip_id': 'trip_count'})\n",
    "df_ride_frequency_location_pickup"
   ]
  },
  {
   "cell_type": "code",
   "execution_count": 19,
   "id": "14d1bacc",
   "metadata": {},
   "outputs": [
    {
     "data": {
      "application/vnd.microsoft.datawrangler.viewer.v0+json": {
       "columns": [
        {
         "name": "index",
         "rawType": "int64",
         "type": "integer"
        },
        {
         "name": "neighborhood_id",
         "rawType": "int64",
         "type": "integer"
        },
        {
         "name": "trip_count",
         "rawType": "int64",
         "type": "integer"
        },
        {
         "name": "name",
         "rawType": "string",
         "type": "string"
        }
       ],
       "ref": "5660ec89-c43f-43ab-b924-2d643e37a650",
       "rows": [
        [
         "0",
         "0",
         "5",
         "albany_park"
        ],
        [
         "1",
         "1",
         "2",
         "andersonville"
        ],
        [
         "2",
         "2",
         "2",
         "archer_heights"
        ],
        [
         "3",
         "3",
         "2",
         "armour_square"
        ],
        [
         "4",
         "4",
         "3",
         "ashburn"
        ],
        [
         "5",
         "5",
         "8",
         "auburn_gresham"
        ],
        [
         "6",
         "6",
         "8",
         "austin"
        ],
        [
         "7",
         "7",
         "5",
         "avalon_park"
        ],
        [
         "8",
         "8",
         "2",
         "avondale"
        ],
        [
         "9",
         "9",
         "5",
         "belmont_cragin"
        ],
        [
         "10",
         "10",
         "7",
         "beverly"
        ],
        [
         "11",
         "11",
         "5",
         "boystown"
        ],
        [
         "12",
         "12",
         "6",
         "bridgeport"
        ],
        [
         "13",
         "13",
         "7",
         "brighton_park"
        ],
        [
         "14",
         "14",
         "6",
         "bucktown"
        ],
        [
         "15",
         "15",
         "9",
         "burnside"
        ],
        [
         "16",
         "16",
         "6",
         "calumet_heights"
        ],
        [
         "17",
         "17",
         "4",
         "chatham"
        ],
        [
         "18",
         "18",
         "7",
         "chicago_lawn"
        ],
        [
         "19",
         "19",
         "3",
         "chinatown"
        ],
        [
         "20",
         "20",
         "10",
         "clearing"
        ],
        [
         "21",
         "21",
         "3",
         "douglas"
        ],
        [
         "22",
         "22",
         "3",
         "dunning"
        ],
        [
         "23",
         "24",
         "2",
         "east_village"
        ],
        [
         "24",
         "25",
         "3",
         "edgewater"
        ],
        [
         "25",
         "26",
         "2",
         "edison_park"
        ],
        [
         "26",
         "27",
         "1",
         "englewood"
        ],
        [
         "27",
         "28",
         "4",
         "fuller_park"
        ],
        [
         "28",
         "30",
         "1",
         "garfield_park"
        ],
        [
         "29",
         "31",
         "2",
         "garfield_ridge"
        ],
        [
         "30",
         "32",
         "2",
         "gold_coast"
        ],
        [
         "31",
         "33",
         "1",
         "grand_boulevard"
        ],
        [
         "32",
         "34",
         "4",
         "grand_crossing"
        ],
        [
         "33",
         "35",
         "2",
         "grant_park"
        ],
        [
         "34",
         "36",
         "2",
         "hegewisch"
        ],
        [
         "35",
         "37",
         "3",
         "hermosa"
        ],
        [
         "36",
         "38",
         "1",
         "humboldt_park"
        ],
        [
         "37",
         "39",
         "4",
         "hyde_park"
        ],
        [
         "38",
         "40",
         "3",
         "irving_park"
        ],
        [
         "39",
         "41",
         "1",
         "jackson_park"
        ],
        [
         "40",
         "42",
         "3",
         "jefferson_park"
        ],
        [
         "41",
         "43",
         "3",
         "kenwood"
        ],
        [
         "42",
         "45",
         "5",
         "lincoln_park"
        ],
        [
         "43",
         "46",
         "1",
         "lincoln_square"
        ],
        [
         "44",
         "47",
         "2",
         "little_italy_uic"
        ],
        [
         "45",
         "48",
         "2",
         "little_village"
        ],
        [
         "46",
         "49",
         "4",
         "logan_square"
        ],
        [
         "47",
         "50",
         "3",
         "loop"
        ],
        [
         "48",
         "51",
         "2",
         "lower_west_side"
        ],
        [
         "49",
         "55",
         "1",
         "mount_greenwood"
        ]
       ],
       "shape": {
        "columns": 3,
        "rows": 66
       }
      },
      "text/html": [
       "<div>\n",
       "<style scoped>\n",
       "    .dataframe tbody tr th:only-of-type {\n",
       "        vertical-align: middle;\n",
       "    }\n",
       "\n",
       "    .dataframe tbody tr th {\n",
       "        vertical-align: top;\n",
       "    }\n",
       "\n",
       "    .dataframe thead th {\n",
       "        text-align: right;\n",
       "    }\n",
       "</style>\n",
       "<table border=\"1\" class=\"dataframe\">\n",
       "  <thead>\n",
       "    <tr style=\"text-align: right;\">\n",
       "      <th></th>\n",
       "      <th>neighborhood_id</th>\n",
       "      <th>trip_count</th>\n",
       "      <th>name</th>\n",
       "    </tr>\n",
       "  </thead>\n",
       "  <tbody>\n",
       "    <tr>\n",
       "      <th>0</th>\n",
       "      <td>0</td>\n",
       "      <td>5</td>\n",
       "      <td>albany_park</td>\n",
       "    </tr>\n",
       "    <tr>\n",
       "      <th>1</th>\n",
       "      <td>1</td>\n",
       "      <td>2</td>\n",
       "      <td>andersonville</td>\n",
       "    </tr>\n",
       "    <tr>\n",
       "      <th>2</th>\n",
       "      <td>2</td>\n",
       "      <td>2</td>\n",
       "      <td>archer_heights</td>\n",
       "    </tr>\n",
       "    <tr>\n",
       "      <th>3</th>\n",
       "      <td>3</td>\n",
       "      <td>2</td>\n",
       "      <td>armour_square</td>\n",
       "    </tr>\n",
       "    <tr>\n",
       "      <th>4</th>\n",
       "      <td>4</td>\n",
       "      <td>3</td>\n",
       "      <td>ashburn</td>\n",
       "    </tr>\n",
       "    <tr>\n",
       "      <th>...</th>\n",
       "      <td>...</td>\n",
       "      <td>...</td>\n",
       "      <td>...</td>\n",
       "    </tr>\n",
       "    <tr>\n",
       "      <th>61</th>\n",
       "      <td>82</td>\n",
       "      <td>1</td>\n",
       "      <td>uptown</td>\n",
       "    </tr>\n",
       "    <tr>\n",
       "      <th>62</th>\n",
       "      <td>85</td>\n",
       "      <td>1</td>\n",
       "      <td>west_elsdon</td>\n",
       "    </tr>\n",
       "    <tr>\n",
       "      <th>63</th>\n",
       "      <td>87</td>\n",
       "      <td>1</td>\n",
       "      <td>west_loop</td>\n",
       "    </tr>\n",
       "    <tr>\n",
       "      <th>64</th>\n",
       "      <td>90</td>\n",
       "      <td>1</td>\n",
       "      <td>west_town</td>\n",
       "    </tr>\n",
       "    <tr>\n",
       "      <th>65</th>\n",
       "      <td>93</td>\n",
       "      <td>1</td>\n",
       "      <td>wrigleyville</td>\n",
       "    </tr>\n",
       "  </tbody>\n",
       "</table>\n",
       "<p>66 rows × 3 columns</p>\n",
       "</div>"
      ],
      "text/plain": [
       "    neighborhood_id  trip_count            name\n",
       "0                 0           5     albany_park\n",
       "1                 1           2   andersonville\n",
       "2                 2           2  archer_heights\n",
       "3                 3           2   armour_square\n",
       "4                 4           3         ashburn\n",
       "..              ...         ...             ...\n",
       "61               82           1          uptown\n",
       "62               85           1     west_elsdon\n",
       "63               87           1       west_loop\n",
       "64               90           1       west_town\n",
       "65               93           1    wrigleyville\n",
       "\n",
       "[66 rows x 3 columns]"
      ]
     },
     "execution_count": 19,
     "metadata": {},
     "output_type": "execute_result"
    }
   ],
   "source": [
    "df_ride_frequency_location_pickup = df_ride_frequency_location_pickup.merge(df_neighborhoods_clean, on='neighborhood_id', how='left')\n",
    "df_ride_frequency_location_pickup"
   ]
  },
  {
   "cell_type": "code",
   "execution_count": 20,
   "id": "a70ecb19",
   "metadata": {},
   "outputs": [],
   "source": [
    "project_root = Path.cwd().parent\n",
    "processed_path = project_root / \"data\" / \"processed\" / \"feature\" / \"ride_frequency_location_pickup_feature.csv\"\n",
    "\n",
    "df_ride_frequency_location_pickup.to_csv(processed_path, index=False)"
   ]
  },
  {
   "cell_type": "markdown",
   "id": "6f9b6a23",
   "metadata": {},
   "source": [
    "#### 4.1.2 Ride frequency - time of day."
   ]
  },
  {
   "cell_type": "code",
   "execution_count": 21,
   "id": "0630888b",
   "metadata": {},
   "outputs": [],
   "source": [
    "df_ride_frequency_location = df_trips_clean.loc[:, ['trip_id', 'cab_id', 'start_ts', 'end_ts']]"
   ]
  },
  {
   "cell_type": "code",
   "execution_count": 22,
   "id": "1c92110d",
   "metadata": {},
   "outputs": [
    {
     "data": {
      "application/vnd.microsoft.datawrangler.viewer.v0+json": {
       "columns": [
        {
         "name": "index",
         "rawType": "int64",
         "type": "integer"
        },
        {
         "name": "trip_id",
         "rawType": "int64",
         "type": "integer"
        },
        {
         "name": "cab_id",
         "rawType": "int64",
         "type": "integer"
        },
        {
         "name": "start_ts",
         "rawType": "datetime64[ns, UTC]",
         "type": "unknown"
        },
        {
         "name": "end_ts",
         "rawType": "datetime64[ns, UTC]",
         "type": "unknown"
        },
        {
         "name": "start_hour",
         "rawType": "int32",
         "type": "integer"
        },
        {
         "name": "end_hour",
         "rawType": "int32",
         "type": "integer"
        }
       ],
       "ref": "dd757f72-7f7f-4bfb-aaad-99c1803b25e9",
       "rows": [
        [
         "0",
         "1",
         "151",
         "2017-11-07 21:00:00+00:00",
         "2017-11-07 21:00:00+00:00",
         "21",
         "21"
        ],
        [
         "1",
         "2",
         "151",
         "2017-11-18 21:00:00+00:00",
         "2017-11-18 21:00:00+00:00",
         "21",
         "21"
        ],
        [
         "2",
         "3",
         "176",
         "2017-11-03 14:00:00+00:00",
         "2017-11-03 15:00:00+00:00",
         "14",
         "15"
        ],
        [
         "3",
         "4",
         "74",
         "2017-11-24 04:00:00+00:00",
         "2017-11-24 04:00:00+00:00",
         "4",
         "4"
        ],
        [
         "4",
         "5",
         "39",
         "2017-11-12 03:00:00+00:00",
         "2017-11-12 03:00:00+00:00",
         "3",
         "3"
        ],
        [
         "5",
         "6",
         "87",
         "2017-11-23 22:00:00+00:00",
         "2017-11-23 22:00:00+00:00",
         "22",
         "22"
        ],
        [
         "6",
         "7",
         "62",
         "2017-11-01 10:00:00+00:00",
         "2017-11-01 10:00:00+00:00",
         "10",
         "10"
        ],
        [
         "7",
         "8",
         "98",
         "2017-11-16 13:00:00+00:00",
         "2017-11-16 13:00:00+00:00",
         "13",
         "13"
        ],
        [
         "8",
         "9",
         "98",
         "2017-11-13 10:00:00+00:00",
         "2017-11-13 10:00:00+00:00",
         "10",
         "10"
        ],
        [
         "9",
         "10",
         "98",
         "2017-11-28 00:00:00+00:00",
         "2017-11-28 00:00:00+00:00",
         "0",
         "0"
        ],
        [
         "10",
         "11",
         "46",
         "2017-11-21 13:00:00+00:00",
         "2017-11-21 13:00:00+00:00",
         "13",
         "13"
        ],
        [
         "11",
         "12",
         "46",
         "2017-11-21 13:00:00+00:00",
         "2017-11-21 13:00:00+00:00",
         "13",
         "13"
        ],
        [
         "12",
         "13",
         "109",
         "2017-11-28 23:00:00+00:00",
         "2017-11-28 23:00:00+00:00",
         "23",
         "23"
        ],
        [
         "13",
         "14",
         "94",
         "2017-11-01 20:00:00+00:00",
         "2017-11-01 20:00:00+00:00",
         "20",
         "20"
        ],
        [
         "14",
         "15",
         "66",
         "2017-11-06 11:00:00+00:00",
         "2017-11-06 11:00:00+00:00",
         "11",
         "11"
        ],
        [
         "15",
         "16",
         "99",
         "2017-11-15 21:00:00+00:00",
         "2017-11-15 21:00:00+00:00",
         "21",
         "21"
        ],
        [
         "16",
         "17",
         "40",
         "2017-11-29 11:00:00+00:00",
         "2017-11-29 11:00:00+00:00",
         "11",
         "11"
        ],
        [
         "17",
         "18",
         "40",
         "2017-11-29 11:00:00+00:00",
         "2017-11-29 11:00:00+00:00",
         "11",
         "11"
        ],
        [
         "18",
         "19",
         "53",
         "2017-11-03 19:00:00+00:00",
         "2017-11-03 19:00:00+00:00",
         "19",
         "19"
        ],
        [
         "19",
         "20",
         "53",
         "2017-11-11 10:00:00+00:00",
         "2017-11-11 10:00:00+00:00",
         "10",
         "10"
        ],
        [
         "20",
         "21",
         "67",
         "2017-11-01 18:00:00+00:00",
         "2017-11-01 18:00:00+00:00",
         "18",
         "18"
        ],
        [
         "21",
         "22",
         "2",
         "2017-11-22 02:00:00+00:00",
         "2017-11-22 02:00:00+00:00",
         "2",
         "2"
        ],
        [
         "22",
         "23",
         "115",
         "2017-11-26 04:00:00+00:00",
         "2017-11-26 04:00:00+00:00",
         "4",
         "4"
        ],
        [
         "23",
         "24",
         "110",
         "2017-11-26 05:00:00+00:00",
         "2017-11-26 05:00:00+00:00",
         "5",
         "5"
        ],
        [
         "24",
         "25",
         "41",
         "2017-11-28 17:00:00+00:00",
         "2017-11-28 17:00:00+00:00",
         "17",
         "17"
        ],
        [
         "25",
         "26",
         "66",
         "2017-11-15 03:00:00+00:00",
         "2017-11-15 03:00:00+00:00",
         "3",
         "3"
        ],
        [
         "26",
         "27",
         "95",
         "2017-11-18 16:00:00+00:00",
         "2017-11-18 16:00:00+00:00",
         "16",
         "16"
        ],
        [
         "27",
         "28",
         "1",
         "2017-11-02 19:00:00+00:00",
         "2017-11-02 19:00:00+00:00",
         "19",
         "19"
        ],
        [
         "28",
         "29",
         "71",
         "2017-11-23 11:00:00+00:00",
         "2017-11-23 11:00:00+00:00",
         "11",
         "11"
        ],
        [
         "29",
         "30",
         "50",
         "2017-11-23 11:00:00+00:00",
         "2017-11-23 11:00:00+00:00",
         "11",
         "11"
        ],
        [
         "30",
         "31",
         "39",
         "2017-11-02 20:00:00+00:00",
         "2017-11-02 20:00:00+00:00",
         "20",
         "20"
        ],
        [
         "31",
         "32",
         "39",
         "2017-11-18 19:00:00+00:00",
         "2017-11-18 19:00:00+00:00",
         "19",
         "19"
        ],
        [
         "32",
         "33",
         "91",
         "2017-11-17 22:00:00+00:00",
         "2017-11-17 22:00:00+00:00",
         "22",
         "22"
        ],
        [
         "33",
         "34",
         "152",
         "2017-11-18 02:00:00+00:00",
         "2017-11-18 02:00:00+00:00",
         "2",
         "2"
        ],
        [
         "34",
         "35",
         "0",
         "2017-11-09 08:00:00+00:00",
         "2017-11-09 08:00:00+00:00",
         "8",
         "8"
        ],
        [
         "35",
         "36",
         "0",
         "2017-11-02 08:00:00+00:00",
         "2017-11-02 08:00:00+00:00",
         "8",
         "8"
        ],
        [
         "36",
         "37",
         "84",
         "2017-11-24 12:00:00+00:00",
         "2017-11-24 12:00:00+00:00",
         "12",
         "12"
        ],
        [
         "37",
         "38",
         "103",
         "2017-11-21 09:00:00+00:00",
         "2017-11-21 09:00:00+00:00",
         "9",
         "9"
        ],
        [
         "38",
         "39",
         "2",
         "2017-11-13 03:00:00+00:00",
         "2017-11-13 03:00:00+00:00",
         "3",
         "3"
        ],
        [
         "39",
         "40",
         "2",
         "2017-11-28 05:00:00+00:00",
         "2017-11-28 05:00:00+00:00",
         "5",
         "5"
        ],
        [
         "40",
         "41",
         "7",
         "2017-11-23 21:00:00+00:00",
         "2017-11-23 21:00:00+00:00",
         "21",
         "21"
        ],
        [
         "41",
         "42",
         "7",
         "2017-11-23 10:00:00+00:00",
         "2017-11-23 10:00:00+00:00",
         "10",
         "10"
        ],
        [
         "42",
         "43",
         "17",
         "2017-11-09 02:00:00+00:00",
         "2017-11-09 02:00:00+00:00",
         "2",
         "2"
        ],
        [
         "43",
         "44",
         "97",
         "2017-11-08 01:00:00+00:00",
         "2017-11-08 01:00:00+00:00",
         "1",
         "1"
        ],
        [
         "44",
         "45",
         "72",
         "2017-11-01 12:00:00+00:00",
         "2017-11-01 12:00:00+00:00",
         "12",
         "12"
        ],
        [
         "45",
         "46",
         "83",
         "2017-11-20 02:00:00+00:00",
         "2017-11-20 02:00:00+00:00",
         "2",
         "2"
        ],
        [
         "46",
         "47",
         "52",
         "2017-11-16 12:00:00+00:00",
         "2017-11-16 13:00:00+00:00",
         "12",
         "13"
        ],
        [
         "47",
         "48",
         "45",
         "2017-11-09 16:00:00+00:00",
         "2017-11-09 16:00:00+00:00",
         "16",
         "16"
        ],
        [
         "48",
         "49",
         "58",
         "2017-11-23 04:00:00+00:00",
         "2017-11-23 04:00:00+00:00",
         "4",
         "4"
        ],
        [
         "49",
         "50",
         "58",
         "2017-11-24 06:00:00+00:00",
         "2017-11-24 06:00:00+00:00",
         "6",
         "6"
        ]
       ],
       "shape": {
        "columns": 6,
        "rows": 200
       }
      },
      "text/html": [
       "<div>\n",
       "<style scoped>\n",
       "    .dataframe tbody tr th:only-of-type {\n",
       "        vertical-align: middle;\n",
       "    }\n",
       "\n",
       "    .dataframe tbody tr th {\n",
       "        vertical-align: top;\n",
       "    }\n",
       "\n",
       "    .dataframe thead th {\n",
       "        text-align: right;\n",
       "    }\n",
       "</style>\n",
       "<table border=\"1\" class=\"dataframe\">\n",
       "  <thead>\n",
       "    <tr style=\"text-align: right;\">\n",
       "      <th></th>\n",
       "      <th>trip_id</th>\n",
       "      <th>cab_id</th>\n",
       "      <th>start_ts</th>\n",
       "      <th>end_ts</th>\n",
       "      <th>start_hour</th>\n",
       "      <th>end_hour</th>\n",
       "    </tr>\n",
       "  </thead>\n",
       "  <tbody>\n",
       "    <tr>\n",
       "      <th>0</th>\n",
       "      <td>1</td>\n",
       "      <td>151</td>\n",
       "      <td>2017-11-07 21:00:00+00:00</td>\n",
       "      <td>2017-11-07 21:00:00+00:00</td>\n",
       "      <td>21</td>\n",
       "      <td>21</td>\n",
       "    </tr>\n",
       "    <tr>\n",
       "      <th>1</th>\n",
       "      <td>2</td>\n",
       "      <td>151</td>\n",
       "      <td>2017-11-18 21:00:00+00:00</td>\n",
       "      <td>2017-11-18 21:00:00+00:00</td>\n",
       "      <td>21</td>\n",
       "      <td>21</td>\n",
       "    </tr>\n",
       "    <tr>\n",
       "      <th>2</th>\n",
       "      <td>3</td>\n",
       "      <td>176</td>\n",
       "      <td>2017-11-03 14:00:00+00:00</td>\n",
       "      <td>2017-11-03 15:00:00+00:00</td>\n",
       "      <td>14</td>\n",
       "      <td>15</td>\n",
       "    </tr>\n",
       "    <tr>\n",
       "      <th>3</th>\n",
       "      <td>4</td>\n",
       "      <td>74</td>\n",
       "      <td>2017-11-24 04:00:00+00:00</td>\n",
       "      <td>2017-11-24 04:00:00+00:00</td>\n",
       "      <td>4</td>\n",
       "      <td>4</td>\n",
       "    </tr>\n",
       "    <tr>\n",
       "      <th>4</th>\n",
       "      <td>5</td>\n",
       "      <td>39</td>\n",
       "      <td>2017-11-12 03:00:00+00:00</td>\n",
       "      <td>2017-11-12 03:00:00+00:00</td>\n",
       "      <td>3</td>\n",
       "      <td>3</td>\n",
       "    </tr>\n",
       "    <tr>\n",
       "      <th>...</th>\n",
       "      <td>...</td>\n",
       "      <td>...</td>\n",
       "      <td>...</td>\n",
       "      <td>...</td>\n",
       "      <td>...</td>\n",
       "      <td>...</td>\n",
       "    </tr>\n",
       "    <tr>\n",
       "      <th>195</th>\n",
       "      <td>196</td>\n",
       "      <td>4</td>\n",
       "      <td>2017-11-17 20:00:00+00:00</td>\n",
       "      <td>2017-11-17 20:00:00+00:00</td>\n",
       "      <td>20</td>\n",
       "      <td>20</td>\n",
       "    </tr>\n",
       "    <tr>\n",
       "      <th>196</th>\n",
       "      <td>197</td>\n",
       "      <td>81</td>\n",
       "      <td>2017-11-08 13:00:00+00:00</td>\n",
       "      <td>2017-11-08 13:00:00+00:00</td>\n",
       "      <td>13</td>\n",
       "      <td>13</td>\n",
       "    </tr>\n",
       "    <tr>\n",
       "      <th>197</th>\n",
       "      <td>198</td>\n",
       "      <td>81</td>\n",
       "      <td>2017-11-20 12:00:00+00:00</td>\n",
       "      <td>2017-11-20 12:00:00+00:00</td>\n",
       "      <td>12</td>\n",
       "      <td>12</td>\n",
       "    </tr>\n",
       "    <tr>\n",
       "      <th>198</th>\n",
       "      <td>199</td>\n",
       "      <td>81</td>\n",
       "      <td>2017-11-01 12:00:00+00:00</td>\n",
       "      <td>2017-11-01 12:00:00+00:00</td>\n",
       "      <td>12</td>\n",
       "      <td>12</td>\n",
       "    </tr>\n",
       "    <tr>\n",
       "      <th>199</th>\n",
       "      <td>200</td>\n",
       "      <td>24</td>\n",
       "      <td>2017-11-21 06:00:00+00:00</td>\n",
       "      <td>2017-11-21 06:00:00+00:00</td>\n",
       "      <td>6</td>\n",
       "      <td>6</td>\n",
       "    </tr>\n",
       "  </tbody>\n",
       "</table>\n",
       "<p>200 rows × 6 columns</p>\n",
       "</div>"
      ],
      "text/plain": [
       "     trip_id  cab_id                  start_ts                    end_ts  start_hour  end_hour\n",
       "0          1     151 2017-11-07 21:00:00+00:00 2017-11-07 21:00:00+00:00          21        21\n",
       "1          2     151 2017-11-18 21:00:00+00:00 2017-11-18 21:00:00+00:00          21        21\n",
       "2          3     176 2017-11-03 14:00:00+00:00 2017-11-03 15:00:00+00:00          14        15\n",
       "3          4      74 2017-11-24 04:00:00+00:00 2017-11-24 04:00:00+00:00           4         4\n",
       "4          5      39 2017-11-12 03:00:00+00:00 2017-11-12 03:00:00+00:00           3         3\n",
       "..       ...     ...                       ...                       ...         ...       ...\n",
       "195      196       4 2017-11-17 20:00:00+00:00 2017-11-17 20:00:00+00:00          20        20\n",
       "196      197      81 2017-11-08 13:00:00+00:00 2017-11-08 13:00:00+00:00          13        13\n",
       "197      198      81 2017-11-20 12:00:00+00:00 2017-11-20 12:00:00+00:00          12        12\n",
       "198      199      81 2017-11-01 12:00:00+00:00 2017-11-01 12:00:00+00:00          12        12\n",
       "199      200      24 2017-11-21 06:00:00+00:00 2017-11-21 06:00:00+00:00           6         6\n",
       "\n",
       "[200 rows x 6 columns]"
      ]
     },
     "execution_count": 22,
     "metadata": {},
     "output_type": "execute_result"
    }
   ],
   "source": [
    "df_ride_frequency_location['start_hour'] = df_ride_frequency_location['start_ts'].dt.hour \n",
    "df_ride_frequency_location['end_hour'] = df_ride_frequency_location['end_ts'].dt.hour \n",
    "df_ride_frequency_location"
   ]
  },
  {
   "cell_type": "code",
   "execution_count": 23,
   "id": "53ec864b",
   "metadata": {},
   "outputs": [
    {
     "data": {
      "application/vnd.microsoft.datawrangler.viewer.v0+json": {
       "columns": [
        {
         "name": "index",
         "rawType": "int64",
         "type": "integer"
        },
        {
         "name": "start_hour",
         "rawType": "int32",
         "type": "integer"
        },
        {
         "name": "trip_count",
         "rawType": "int64",
         "type": "integer"
        }
       ],
       "ref": "a0f38611-e61c-4eb0-97c0-3e1f09eaeff8",
       "rows": [
        [
         "0",
         "0",
         "12"
        ],
        [
         "1",
         "1",
         "3"
        ],
        [
         "2",
         "2",
         "19"
        ],
        [
         "3",
         "3",
         "9"
        ],
        [
         "4",
         "4",
         "15"
        ],
        [
         "5",
         "5",
         "5"
        ],
        [
         "6",
         "6",
         "4"
        ],
        [
         "7",
         "7",
         "2"
        ],
        [
         "8",
         "8",
         "4"
        ],
        [
         "9",
         "9",
         "5"
        ],
        [
         "10",
         "10",
         "8"
        ],
        [
         "11",
         "11",
         "11"
        ],
        [
         "12",
         "12",
         "14"
        ],
        [
         "13",
         "13",
         "10"
        ],
        [
         "14",
         "14",
         "11"
        ],
        [
         "15",
         "15",
         "2"
        ],
        [
         "16",
         "16",
         "15"
        ],
        [
         "17",
         "17",
         "3"
        ],
        [
         "18",
         "18",
         "9"
        ],
        [
         "19",
         "19",
         "11"
        ],
        [
         "20",
         "20",
         "9"
        ],
        [
         "21",
         "21",
         "11"
        ],
        [
         "22",
         "22",
         "5"
        ],
        [
         "23",
         "23",
         "3"
        ]
       ],
       "shape": {
        "columns": 2,
        "rows": 24
       }
      },
      "text/html": [
       "<div>\n",
       "<style scoped>\n",
       "    .dataframe tbody tr th:only-of-type {\n",
       "        vertical-align: middle;\n",
       "    }\n",
       "\n",
       "    .dataframe tbody tr th {\n",
       "        vertical-align: top;\n",
       "    }\n",
       "\n",
       "    .dataframe thead th {\n",
       "        text-align: right;\n",
       "    }\n",
       "</style>\n",
       "<table border=\"1\" class=\"dataframe\">\n",
       "  <thead>\n",
       "    <tr style=\"text-align: right;\">\n",
       "      <th></th>\n",
       "      <th>start_hour</th>\n",
       "      <th>trip_count</th>\n",
       "    </tr>\n",
       "  </thead>\n",
       "  <tbody>\n",
       "    <tr>\n",
       "      <th>0</th>\n",
       "      <td>0</td>\n",
       "      <td>12</td>\n",
       "    </tr>\n",
       "    <tr>\n",
       "      <th>1</th>\n",
       "      <td>1</td>\n",
       "      <td>3</td>\n",
       "    </tr>\n",
       "    <tr>\n",
       "      <th>2</th>\n",
       "      <td>2</td>\n",
       "      <td>19</td>\n",
       "    </tr>\n",
       "    <tr>\n",
       "      <th>3</th>\n",
       "      <td>3</td>\n",
       "      <td>9</td>\n",
       "    </tr>\n",
       "    <tr>\n",
       "      <th>4</th>\n",
       "      <td>4</td>\n",
       "      <td>15</td>\n",
       "    </tr>\n",
       "    <tr>\n",
       "      <th>5</th>\n",
       "      <td>5</td>\n",
       "      <td>5</td>\n",
       "    </tr>\n",
       "    <tr>\n",
       "      <th>6</th>\n",
       "      <td>6</td>\n",
       "      <td>4</td>\n",
       "    </tr>\n",
       "    <tr>\n",
       "      <th>7</th>\n",
       "      <td>7</td>\n",
       "      <td>2</td>\n",
       "    </tr>\n",
       "    <tr>\n",
       "      <th>8</th>\n",
       "      <td>8</td>\n",
       "      <td>4</td>\n",
       "    </tr>\n",
       "    <tr>\n",
       "      <th>9</th>\n",
       "      <td>9</td>\n",
       "      <td>5</td>\n",
       "    </tr>\n",
       "    <tr>\n",
       "      <th>10</th>\n",
       "      <td>10</td>\n",
       "      <td>8</td>\n",
       "    </tr>\n",
       "    <tr>\n",
       "      <th>11</th>\n",
       "      <td>11</td>\n",
       "      <td>11</td>\n",
       "    </tr>\n",
       "    <tr>\n",
       "      <th>12</th>\n",
       "      <td>12</td>\n",
       "      <td>14</td>\n",
       "    </tr>\n",
       "    <tr>\n",
       "      <th>13</th>\n",
       "      <td>13</td>\n",
       "      <td>10</td>\n",
       "    </tr>\n",
       "    <tr>\n",
       "      <th>14</th>\n",
       "      <td>14</td>\n",
       "      <td>11</td>\n",
       "    </tr>\n",
       "    <tr>\n",
       "      <th>15</th>\n",
       "      <td>15</td>\n",
       "      <td>2</td>\n",
       "    </tr>\n",
       "    <tr>\n",
       "      <th>16</th>\n",
       "      <td>16</td>\n",
       "      <td>15</td>\n",
       "    </tr>\n",
       "    <tr>\n",
       "      <th>17</th>\n",
       "      <td>17</td>\n",
       "      <td>3</td>\n",
       "    </tr>\n",
       "    <tr>\n",
       "      <th>18</th>\n",
       "      <td>18</td>\n",
       "      <td>9</td>\n",
       "    </tr>\n",
       "    <tr>\n",
       "      <th>19</th>\n",
       "      <td>19</td>\n",
       "      <td>11</td>\n",
       "    </tr>\n",
       "    <tr>\n",
       "      <th>20</th>\n",
       "      <td>20</td>\n",
       "      <td>9</td>\n",
       "    </tr>\n",
       "    <tr>\n",
       "      <th>21</th>\n",
       "      <td>21</td>\n",
       "      <td>11</td>\n",
       "    </tr>\n",
       "    <tr>\n",
       "      <th>22</th>\n",
       "      <td>22</td>\n",
       "      <td>5</td>\n",
       "    </tr>\n",
       "    <tr>\n",
       "      <th>23</th>\n",
       "      <td>23</td>\n",
       "      <td>3</td>\n",
       "    </tr>\n",
       "  </tbody>\n",
       "</table>\n",
       "</div>"
      ],
      "text/plain": [
       "    start_hour  trip_count\n",
       "0            0          12\n",
       "1            1           3\n",
       "2            2          19\n",
       "3            3           9\n",
       "4            4          15\n",
       "5            5           5\n",
       "6            6           4\n",
       "7            7           2\n",
       "8            8           4\n",
       "9            9           5\n",
       "10          10           8\n",
       "11          11          11\n",
       "12          12          14\n",
       "13          13          10\n",
       "14          14          11\n",
       "15          15           2\n",
       "16          16          15\n",
       "17          17           3\n",
       "18          18           9\n",
       "19          19          11\n",
       "20          20           9\n",
       "21          21          11\n",
       "22          22           5\n",
       "23          23           3"
      ]
     },
     "execution_count": 23,
     "metadata": {},
     "output_type": "execute_result"
    }
   ],
   "source": [
    "# Start_ts frequency ride\n",
    "df_ride_frequency_start_ts = df_ride_frequency_location.groupby('start_hour')['trip_id'].count()\n",
    "df_ride_frequency_start_ts = df_ride_frequency_start_ts.reset_index().rename(columns={'trip_id': 'trip_count'})\n",
    "df_ride_frequency_start_ts"
   ]
  },
  {
   "cell_type": "code",
   "execution_count": 25,
   "id": "006874d2",
   "metadata": {},
   "outputs": [],
   "source": [
    "project_root = Path.cwd().parent\n",
    "processed_path = project_root / \"data\" / \"processed\" / \"feature\" / \"ride_frequency_start_ts_feature.csv\"\n",
    "\n",
    "df_ride_frequency_start_ts.to_csv(processed_path, index=False)"
   ]
  },
  {
   "cell_type": "code",
   "execution_count": 24,
   "id": "94187f22",
   "metadata": {},
   "outputs": [
    {
     "data": {
      "application/vnd.microsoft.datawrangler.viewer.v0+json": {
       "columns": [
        {
         "name": "index",
         "rawType": "int64",
         "type": "integer"
        },
        {
         "name": "end_hour",
         "rawType": "int32",
         "type": "integer"
        },
        {
         "name": "trip_count",
         "rawType": "int64",
         "type": "integer"
        }
       ],
       "ref": "0f09eff6-57d2-43f3-9f4c-b58e0be19eb9",
       "rows": [
        [
         "0",
         "0",
         "11"
        ],
        [
         "1",
         "1",
         "3"
        ],
        [
         "2",
         "2",
         "19"
        ],
        [
         "3",
         "3",
         "10"
        ],
        [
         "4",
         "4",
         "15"
        ],
        [
         "5",
         "5",
         "5"
        ],
        [
         "6",
         "6",
         "4"
        ],
        [
         "7",
         "7",
         "2"
        ],
        [
         "8",
         "8",
         "4"
        ],
        [
         "9",
         "9",
         "5"
        ],
        [
         "10",
         "10",
         "7"
        ],
        [
         "11",
         "11",
         "12"
        ],
        [
         "12",
         "12",
         "13"
        ],
        [
         "13",
         "13",
         "11"
        ],
        [
         "14",
         "14",
         "9"
        ],
        [
         "15",
         "15",
         "4"
        ],
        [
         "16",
         "16",
         "13"
        ],
        [
         "17",
         "17",
         "5"
        ],
        [
         "18",
         "18",
         "6"
        ],
        [
         "19",
         "19",
         "13"
        ],
        [
         "20",
         "20",
         "8"
        ],
        [
         "21",
         "21",
         "13"
        ],
        [
         "22",
         "22",
         "5"
        ],
        [
         "23",
         "23",
         "3"
        ]
       ],
       "shape": {
        "columns": 2,
        "rows": 24
       }
      },
      "text/html": [
       "<div>\n",
       "<style scoped>\n",
       "    .dataframe tbody tr th:only-of-type {\n",
       "        vertical-align: middle;\n",
       "    }\n",
       "\n",
       "    .dataframe tbody tr th {\n",
       "        vertical-align: top;\n",
       "    }\n",
       "\n",
       "    .dataframe thead th {\n",
       "        text-align: right;\n",
       "    }\n",
       "</style>\n",
       "<table border=\"1\" class=\"dataframe\">\n",
       "  <thead>\n",
       "    <tr style=\"text-align: right;\">\n",
       "      <th></th>\n",
       "      <th>end_hour</th>\n",
       "      <th>trip_count</th>\n",
       "    </tr>\n",
       "  </thead>\n",
       "  <tbody>\n",
       "    <tr>\n",
       "      <th>0</th>\n",
       "      <td>0</td>\n",
       "      <td>11</td>\n",
       "    </tr>\n",
       "    <tr>\n",
       "      <th>1</th>\n",
       "      <td>1</td>\n",
       "      <td>3</td>\n",
       "    </tr>\n",
       "    <tr>\n",
       "      <th>2</th>\n",
       "      <td>2</td>\n",
       "      <td>19</td>\n",
       "    </tr>\n",
       "    <tr>\n",
       "      <th>3</th>\n",
       "      <td>3</td>\n",
       "      <td>10</td>\n",
       "    </tr>\n",
       "    <tr>\n",
       "      <th>4</th>\n",
       "      <td>4</td>\n",
       "      <td>15</td>\n",
       "    </tr>\n",
       "    <tr>\n",
       "      <th>5</th>\n",
       "      <td>5</td>\n",
       "      <td>5</td>\n",
       "    </tr>\n",
       "    <tr>\n",
       "      <th>6</th>\n",
       "      <td>6</td>\n",
       "      <td>4</td>\n",
       "    </tr>\n",
       "    <tr>\n",
       "      <th>7</th>\n",
       "      <td>7</td>\n",
       "      <td>2</td>\n",
       "    </tr>\n",
       "    <tr>\n",
       "      <th>8</th>\n",
       "      <td>8</td>\n",
       "      <td>4</td>\n",
       "    </tr>\n",
       "    <tr>\n",
       "      <th>9</th>\n",
       "      <td>9</td>\n",
       "      <td>5</td>\n",
       "    </tr>\n",
       "    <tr>\n",
       "      <th>10</th>\n",
       "      <td>10</td>\n",
       "      <td>7</td>\n",
       "    </tr>\n",
       "    <tr>\n",
       "      <th>11</th>\n",
       "      <td>11</td>\n",
       "      <td>12</td>\n",
       "    </tr>\n",
       "    <tr>\n",
       "      <th>12</th>\n",
       "      <td>12</td>\n",
       "      <td>13</td>\n",
       "    </tr>\n",
       "    <tr>\n",
       "      <th>13</th>\n",
       "      <td>13</td>\n",
       "      <td>11</td>\n",
       "    </tr>\n",
       "    <tr>\n",
       "      <th>14</th>\n",
       "      <td>14</td>\n",
       "      <td>9</td>\n",
       "    </tr>\n",
       "    <tr>\n",
       "      <th>15</th>\n",
       "      <td>15</td>\n",
       "      <td>4</td>\n",
       "    </tr>\n",
       "    <tr>\n",
       "      <th>16</th>\n",
       "      <td>16</td>\n",
       "      <td>13</td>\n",
       "    </tr>\n",
       "    <tr>\n",
       "      <th>17</th>\n",
       "      <td>17</td>\n",
       "      <td>5</td>\n",
       "    </tr>\n",
       "    <tr>\n",
       "      <th>18</th>\n",
       "      <td>18</td>\n",
       "      <td>6</td>\n",
       "    </tr>\n",
       "    <tr>\n",
       "      <th>19</th>\n",
       "      <td>19</td>\n",
       "      <td>13</td>\n",
       "    </tr>\n",
       "    <tr>\n",
       "      <th>20</th>\n",
       "      <td>20</td>\n",
       "      <td>8</td>\n",
       "    </tr>\n",
       "    <tr>\n",
       "      <th>21</th>\n",
       "      <td>21</td>\n",
       "      <td>13</td>\n",
       "    </tr>\n",
       "    <tr>\n",
       "      <th>22</th>\n",
       "      <td>22</td>\n",
       "      <td>5</td>\n",
       "    </tr>\n",
       "    <tr>\n",
       "      <th>23</th>\n",
       "      <td>23</td>\n",
       "      <td>3</td>\n",
       "    </tr>\n",
       "  </tbody>\n",
       "</table>\n",
       "</div>"
      ],
      "text/plain": [
       "    end_hour  trip_count\n",
       "0          0          11\n",
       "1          1           3\n",
       "2          2          19\n",
       "3          3          10\n",
       "4          4          15\n",
       "5          5           5\n",
       "6          6           4\n",
       "7          7           2\n",
       "8          8           4\n",
       "9          9           5\n",
       "10        10           7\n",
       "11        11          12\n",
       "12        12          13\n",
       "13        13          11\n",
       "14        14           9\n",
       "15        15           4\n",
       "16        16          13\n",
       "17        17           5\n",
       "18        18           6\n",
       "19        19          13\n",
       "20        20           8\n",
       "21        21          13\n",
       "22        22           5\n",
       "23        23           3"
      ]
     },
     "execution_count": 24,
     "metadata": {},
     "output_type": "execute_result"
    }
   ],
   "source": [
    "# End_ts frequency ride\n",
    "df_ride_frequency_end_ts = df_ride_frequency_location.groupby('end_hour')['trip_id'].count()\n",
    "df_ride_frequency_end_ts = df_ride_frequency_end_ts.reset_index().rename(columns={'trip_id': 'trip_count'})\n",
    "df_ride_frequency_end_ts"
   ]
  },
  {
   "cell_type": "code",
   "execution_count": 26,
   "id": "26829ea6",
   "metadata": {},
   "outputs": [],
   "source": [
    "project_root = Path.cwd().parent\n",
    "processed_path = project_root / \"data\" / \"processed\" / \"feature\" / \"ride_frequency_end_ts_feature.csv\"\n",
    "\n",
    "df_ride_frequency_end_ts.to_csv(processed_path, index=False)"
   ]
  },
  {
   "cell_type": "markdown",
   "id": "52ad0a5f",
   "metadata": {},
   "source": [
    "### 4.2 Weather affect the number of trips taken."
   ]
  }
 ],
 "metadata": {
  "kernelspec": {
   "display_name": "Win11_Python-Mature-PipVenv-Github-3.10",
   "language": "python",
   "name": "python3"
  },
  "language_info": {
   "codemirror_mode": {
    "name": "ipython",
    "version": 3
   },
   "file_extension": ".py",
   "mimetype": "text/x-python",
   "name": "python",
   "nbconvert_exporter": "python",
   "pygments_lexer": "ipython3",
   "version": "3.10.0"
  }
 },
 "nbformat": 4,
 "nbformat_minor": 5
}
