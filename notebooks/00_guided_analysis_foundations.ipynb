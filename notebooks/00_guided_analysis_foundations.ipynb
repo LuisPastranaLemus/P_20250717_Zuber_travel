{
 "cells": [
  {
   "cell_type": "markdown",
   "id": "4b7b9506",
   "metadata": {},
   "source": [
    "### __EDA__\n",
    "\n",
    "In addition to the data you retrieved in the previous tasks, you've been given a second file. You now have these two CSV files:\n",
    "\n",
    "_/datasets/project_sql_result_01.csv_. It contains the following data:\n",
    "\n",
    "- `company_name`: Name of the taxi company   \n",
    "- `trips_amount`: The number of trips for each taxi company on November 15 and 16, 2017.   \n",
    "\n",
    "_/datasets/project_sql_result_04.csv_. It contains the following data:\n",
    "\n",
    "- `dropoff_location_name`: Chicago neighborhoods where trips ended\n",
    "- `average_trips`: The average number of trips that ended in each neighborhood in November 2017.\n",
    "\n",
    "For these two datasets, you now need to\n",
    "\n",
    " 1. import the files\n",
    " 2. examine the data they contain\n",
    " 3. ensure the data types are correct\n",
    " 4. identify the top 10 neighborhoods in terms of trip completion\n",
    " 5. make graphs: taxi companies and number of trips, top 10 neighborhoods by number of completions\n",
    " 6. draw conclusions based on each graph and explain the results"
   ]
  },
  {
   "cell_type": "code",
   "execution_count": 24,
   "id": "b68bddcc",
   "metadata": {},
   "outputs": [],
   "source": [
    "from IPython.display import display, HTML\n",
    "import pandas as pd\n",
    "import numpy as np\n",
    "from matplotlib import pyplot as plt\n",
    "import seaborn as sns\n",
    "import scipy.stats as st\n",
    "from scipy.stats import ttest_ind"
   ]
  },
  {
   "cell_type": "markdown",
   "id": "74f04999",
   "metadata": {},
   "source": [
    "#### 1. __Path to Data files.__"
   ]
  },
  {
   "cell_type": "code",
   "execution_count": 23,
   "id": "7d4f032d",
   "metadata": {},
   "outputs": [],
   "source": [
    "df_company_trips = pd.read_csv('../data/processed/project_sql_result_01.csv', header='infer')\n",
    "df_location_trips = pd.read_csv('../data/processed/project_sql_result_04.csv', header='infer')\n",
    "df_trips_time_weather_duration = pd.read_csv('../data/processed/project_sql_result_07.csv', header='infer')"
   ]
  },
  {
   "cell_type": "markdown",
   "id": "98215a6b",
   "metadata": {},
   "source": [
    "#### 2. __Explore Data__"
   ]
  },
  {
   "cell_type": "code",
   "execution_count": 5,
   "id": "4c6e512e",
   "metadata": {},
   "outputs": [
    {
     "name": "stdout",
     "output_type": "stream",
     "text": [
      "<class 'pandas.core.frame.DataFrame'>\n",
      "RangeIndex: 64 entries, 0 to 63\n",
      "Data columns (total 2 columns):\n",
      " #   Column        Non-Null Count  Dtype \n",
      "---  ------        --------------  ----- \n",
      " 0   company_name  64 non-null     object\n",
      " 1   trips_amount  64 non-null     int64 \n",
      "dtypes: int64(1), object(1)\n",
      "memory usage: 1.1+ KB\n"
     ]
    }
   ],
   "source": [
    "df_company_trips.info()"
   ]
  },
  {
   "cell_type": "code",
   "execution_count": 7,
   "id": "2a6ccde4",
   "metadata": {},
   "outputs": [
    {
     "data": {
      "application/vnd.microsoft.datawrangler.viewer.v0+json": {
       "columns": [
        {
         "name": "index",
         "rawType": "int64",
         "type": "integer"
        },
        {
         "name": "company_name",
         "rawType": "object",
         "type": "string"
        },
        {
         "name": "trips_amount",
         "rawType": "int64",
         "type": "integer"
        }
       ],
       "ref": "a15a5270-1b66-4ade-a587-b0f9ba7187ea",
       "rows": [
        [
         "0",
         "Flash Cab",
         "19558"
        ],
        [
         "1",
         "Taxi Affiliation Services",
         "11422"
        ],
        [
         "2",
         "Medallion Leasin",
         "10367"
        ],
        [
         "3",
         "Yellow Cab",
         "9888"
        ],
        [
         "4",
         "Taxi Affiliation Service Yellow",
         "9299"
        ],
        [
         "5",
         "Chicago Carriage Cab Corp",
         "9181"
        ],
        [
         "6",
         "City Service",
         "8448"
        ],
        [
         "7",
         "Sun Taxi",
         "7701"
        ],
        [
         "8",
         "Star North Management LLC",
         "7455"
        ],
        [
         "9",
         "Blue Ribbon Taxi Association Inc.",
         "5953"
        ],
        [
         "10",
         "Choice Taxi Association",
         "5015"
        ],
        [
         "11",
         "Globe Taxi",
         "4383"
        ],
        [
         "12",
         "Dispatch Taxi Affiliation",
         "3355"
        ],
        [
         "13",
         "Nova Taxi Affiliation Llc",
         "3175"
        ],
        [
         "14",
         "Patriot Taxi Dba Peace Taxi Associat",
         "2235"
        ],
        [
         "15",
         "Checker Taxi Affiliation",
         "2216"
        ],
        [
         "16",
         "Blue Diamond",
         "2070"
        ],
        [
         "17",
         "Chicago Medallion Management",
         "1955"
        ],
        [
         "18",
         "24 Seven Taxi",
         "1775"
        ],
        [
         "19",
         "Chicago Medallion Leasing INC",
         "1607"
        ],
        [
         "20",
         "Checker Taxi",
         "1486"
        ],
        [
         "21",
         "American United",
         "1404"
        ],
        [
         "22",
         "Chicago Independents",
         "1296"
        ],
        [
         "23",
         "KOAM Taxi Association",
         "1259"
        ],
        [
         "24",
         "Chicago Taxicab",
         "1014"
        ],
        [
         "25",
         "Top Cab Affiliation",
         "978"
        ],
        [
         "26",
         "Gold Coast Taxi",
         "428"
        ],
        [
         "27",
         "Service Taxi Association",
         "402"
        ],
        [
         "28",
         "5 Star Taxi",
         "310"
        ],
        [
         "29",
         "303 Taxi",
         "250"
        ],
        [
         "30",
         "Setare Inc",
         "230"
        ],
        [
         "31",
         "American United Taxi Affiliation",
         "210"
        ],
        [
         "32",
         "Leonard Cab Co",
         "147"
        ],
        [
         "33",
         "Metro Jet Taxi A",
         "146"
        ],
        [
         "34",
         "Norshore Cab",
         "127"
        ],
        [
         "35",
         "6742 - 83735 Tasha ride inc",
         "39"
        ],
        [
         "36",
         "3591 - 63480 Chuks Cab",
         "37"
        ],
        [
         "37",
         "1469 - 64126 Omar Jada",
         "36"
        ],
        [
         "38",
         "6743 - 78771 Luhak Corp",
         "33"
        ],
        [
         "39",
         "0118 - 42111 Godfrey S.Awir",
         "33"
        ],
        [
         "40",
         "6574 - Babylon Express Inc.",
         "31"
        ],
        [
         "41",
         "Chicago Star Taxicab",
         "29"
        ],
        [
         "42",
         "1085 - 72312 N and W Cab Co",
         "29"
        ],
        [
         "43",
         "2809 - 95474 C & D Cab Co Inc.",
         "29"
        ],
        [
         "44",
         "2092 - 61288 Sbeih company",
         "27"
        ],
        [
         "45",
         "3011 - 66308 JBL Cab Inc.",
         "25"
        ],
        [
         "46",
         "3620 - 52292 David K. Cab Corp.",
         "21"
        ],
        [
         "47",
         "4615 - 83503 Tyrone Henderson",
         "21"
        ],
        [
         "48",
         "3623 - 72222 Arrington Enterprises",
         "20"
        ],
        [
         "49",
         "5074 - 54002 Ahzmi Inc",
         "16"
        ]
       ],
       "shape": {
        "columns": 2,
        "rows": 64
       }
      },
      "text/html": [
       "<div>\n",
       "<style scoped>\n",
       "    .dataframe tbody tr th:only-of-type {\n",
       "        vertical-align: middle;\n",
       "    }\n",
       "\n",
       "    .dataframe tbody tr th {\n",
       "        vertical-align: top;\n",
       "    }\n",
       "\n",
       "    .dataframe thead th {\n",
       "        text-align: right;\n",
       "    }\n",
       "</style>\n",
       "<table border=\"1\" class=\"dataframe\">\n",
       "  <thead>\n",
       "    <tr style=\"text-align: right;\">\n",
       "      <th></th>\n",
       "      <th>company_name</th>\n",
       "      <th>trips_amount</th>\n",
       "    </tr>\n",
       "  </thead>\n",
       "  <tbody>\n",
       "    <tr>\n",
       "      <th>0</th>\n",
       "      <td>Flash Cab</td>\n",
       "      <td>19558</td>\n",
       "    </tr>\n",
       "    <tr>\n",
       "      <th>1</th>\n",
       "      <td>Taxi Affili...</td>\n",
       "      <td>11422</td>\n",
       "    </tr>\n",
       "    <tr>\n",
       "      <th>2</th>\n",
       "      <td>Medallion L...</td>\n",
       "      <td>10367</td>\n",
       "    </tr>\n",
       "    <tr>\n",
       "      <th>3</th>\n",
       "      <td>Yellow Cab</td>\n",
       "      <td>9888</td>\n",
       "    </tr>\n",
       "    <tr>\n",
       "      <th>4</th>\n",
       "      <td>Taxi Affili...</td>\n",
       "      <td>9299</td>\n",
       "    </tr>\n",
       "    <tr>\n",
       "      <th>...</th>\n",
       "      <td>...</td>\n",
       "      <td>...</td>\n",
       "    </tr>\n",
       "    <tr>\n",
       "      <th>59</th>\n",
       "      <td>4053 - 4019...</td>\n",
       "      <td>7</td>\n",
       "    </tr>\n",
       "    <tr>\n",
       "      <th>60</th>\n",
       "      <td>2733 - 7460...</td>\n",
       "      <td>7</td>\n",
       "    </tr>\n",
       "    <tr>\n",
       "      <th>61</th>\n",
       "      <td>5874 - 7362...</td>\n",
       "      <td>5</td>\n",
       "    </tr>\n",
       "    <tr>\n",
       "      <th>62</th>\n",
       "      <td>2241 - 4466...</td>\n",
       "      <td>3</td>\n",
       "    </tr>\n",
       "    <tr>\n",
       "      <th>63</th>\n",
       "      <td>3556 - 3621...</td>\n",
       "      <td>2</td>\n",
       "    </tr>\n",
       "  </tbody>\n",
       "</table>\n",
       "<p>64 rows × 2 columns</p>\n",
       "</div>"
      ],
      "text/plain": [
       "      company_name  trips_amount\n",
       "0        Flash Cab         19558\n",
       "1   Taxi Affili...         11422\n",
       "2   Medallion L...         10367\n",
       "3       Yellow Cab          9888\n",
       "4   Taxi Affili...          9299\n",
       "..             ...           ...\n",
       "59  4053 - 4019...             7\n",
       "60  2733 - 7460...             7\n",
       "61  5874 - 7362...             5\n",
       "62  2241 - 4466...             3\n",
       "63  3556 - 3621...             2\n",
       "\n",
       "[64 rows x 2 columns]"
      ]
     },
     "execution_count": 7,
     "metadata": {},
     "output_type": "execute_result"
    }
   ],
   "source": [
    "df_company_trips"
   ]
  },
  {
   "cell_type": "code",
   "execution_count": 6,
   "id": "c323216a",
   "metadata": {},
   "outputs": [
    {
     "name": "stdout",
     "output_type": "stream",
     "text": [
      "<class 'pandas.core.frame.DataFrame'>\n",
      "RangeIndex: 94 entries, 0 to 93\n",
      "Data columns (total 2 columns):\n",
      " #   Column                 Non-Null Count  Dtype  \n",
      "---  ------                 --------------  -----  \n",
      " 0   dropoff_location_name  94 non-null     object \n",
      " 1   average_trips          94 non-null     float64\n",
      "dtypes: float64(1), object(1)\n",
      "memory usage: 1.6+ KB\n"
     ]
    }
   ],
   "source": [
    "df_location_trips.info()"
   ]
  },
  {
   "cell_type": "code",
   "execution_count": 8,
   "id": "f0dde5d6",
   "metadata": {},
   "outputs": [
    {
     "data": {
      "application/vnd.microsoft.datawrangler.viewer.v0+json": {
       "columns": [
        {
         "name": "index",
         "rawType": "int64",
         "type": "integer"
        },
        {
         "name": "dropoff_location_name",
         "rawType": "object",
         "type": "string"
        },
        {
         "name": "average_trips",
         "rawType": "float64",
         "type": "float"
        }
       ],
       "ref": "920566ac-346a-4713-85d8-56965ad5ca82",
       "rows": [
        [
         "0",
         "Loop",
         "10727.466666666667"
        ],
        [
         "1",
         "River North",
         "9523.666666666666"
        ],
        [
         "2",
         "Streeterville",
         "6664.666666666667"
        ],
        [
         "3",
         "West Loop",
         "5163.666666666667"
        ],
        [
         "4",
         "O'Hare",
         "2546.9"
        ],
        [
         "5",
         "Lake View",
         "2420.9666666666667"
        ],
        [
         "6",
         "Grant Park",
         "2068.5333333333333"
        ],
        [
         "7",
         "Museum Campus",
         "1510.0"
        ],
        [
         "8",
         "Gold Coast",
         "1364.2333333333331"
        ],
        [
         "9",
         "Sheffield & DePaul",
         "1259.7666666666669"
        ],
        [
         "10",
         "Lincoln Park",
         "1246.5333333333333"
        ],
        [
         "11",
         "East Village",
         "1212.0666666666666"
        ],
        [
         "12",
         "Little Italy, UIC",
         "863.7"
        ],
        [
         "13",
         "Uptown",
         "849.6666666666666"
        ],
        [
         "14",
         "Near South Side",
         "839.8333333333334"
        ],
        [
         "15",
         "Garfield Ridge",
         "745.4"
        ],
        [
         "16",
         "Logan Square",
         "620.3333333333334"
        ],
        [
         "17",
         "Edgewater",
         "583.3"
        ],
        [
         "18",
         "West Town",
         "516.4"
        ],
        [
         "19",
         "Old Town",
         "469.56666666666666"
        ],
        [
         "20",
         "Rush & Division",
         "395.53333333333336"
        ],
        [
         "21",
         "North Center",
         "393.26666666666665"
        ],
        [
         "22",
         "Lincoln Square",
         "356.7333333333333"
        ],
        [
         "23",
         "Rogers Park",
         "299.03333333333336"
        ],
        [
         "24",
         "West Ridge",
         "298.3333333333333"
        ],
        [
         "25",
         "Irving Park",
         "296.56666666666666"
        ],
        [
         "26",
         "Hyde Park",
         "255.13333333333333"
        ],
        [
         "27",
         "Avondale",
         "208.2333333333333"
        ],
        [
         "28",
         "Wicker Park",
         "182.6"
        ],
        [
         "29",
         "Albany Park",
         "180.9"
        ],
        [
         "30",
         "United Center",
         "178.9"
        ],
        [
         "31",
         "Lower West Side",
         "143.3"
        ],
        [
         "32",
         "Douglas",
         "142.9"
        ],
        [
         "33",
         "Portage Park",
         "119.73333333333332"
        ],
        [
         "34",
         "Humboldt Park",
         "97.86666666666666"
        ],
        [
         "35",
         "Norwood Park",
         "95.23333333333332"
        ],
        [
         "36",
         "Kenwood",
         "89.36666666666666"
        ],
        [
         "37",
         "Bridgeport",
         "77.1"
        ],
        [
         "38",
         "Armour Square",
         "77.03333333333333"
        ],
        [
         "39",
         "Jefferson Park",
         "74.33333333333333"
        ],
        [
         "40",
         "Bucktown",
         "74.3"
        ],
        [
         "41",
         "North Park",
         "67.83333333333333"
        ],
        [
         "42",
         "Garfield Park",
         "65.76666666666667"
        ],
        [
         "43",
         "Mckinley Park",
         "64.03333333333333"
        ],
        [
         "44",
         "Belmont Cragin",
         "59.03333333333333"
        ],
        [
         "45",
         "Boystown",
         "53.96666666666667"
        ],
        [
         "46",
         "Chinatown",
         "52.43333333333333"
        ],
        [
         "47",
         "Grand Boulevard",
         "51.6"
        ],
        [
         "48",
         "Austin",
         "44.43333333333333"
        ],
        [
         "49",
         "Sauganash,Forest Glen",
         "43.56666666666667"
        ]
       ],
       "shape": {
        "columns": 2,
        "rows": 94
       }
      },
      "text/html": [
       "<div>\n",
       "<style scoped>\n",
       "    .dataframe tbody tr th:only-of-type {\n",
       "        vertical-align: middle;\n",
       "    }\n",
       "\n",
       "    .dataframe tbody tr th {\n",
       "        vertical-align: top;\n",
       "    }\n",
       "\n",
       "    .dataframe thead th {\n",
       "        text-align: right;\n",
       "    }\n",
       "</style>\n",
       "<table border=\"1\" class=\"dataframe\">\n",
       "  <thead>\n",
       "    <tr style=\"text-align: right;\">\n",
       "      <th></th>\n",
       "      <th>dropoff_location_name</th>\n",
       "      <th>average_trips</th>\n",
       "    </tr>\n",
       "  </thead>\n",
       "  <tbody>\n",
       "    <tr>\n",
       "      <th>0</th>\n",
       "      <td>Loop</td>\n",
       "      <td>10727.466667</td>\n",
       "    </tr>\n",
       "    <tr>\n",
       "      <th>1</th>\n",
       "      <td>River North</td>\n",
       "      <td>9523.666667</td>\n",
       "    </tr>\n",
       "    <tr>\n",
       "      <th>2</th>\n",
       "      <td>Streeterville</td>\n",
       "      <td>6664.666667</td>\n",
       "    </tr>\n",
       "    <tr>\n",
       "      <th>3</th>\n",
       "      <td>West Loop</td>\n",
       "      <td>5163.666667</td>\n",
       "    </tr>\n",
       "    <tr>\n",
       "      <th>4</th>\n",
       "      <td>O'Hare</td>\n",
       "      <td>2546.900000</td>\n",
       "    </tr>\n",
       "    <tr>\n",
       "      <th>...</th>\n",
       "      <td>...</td>\n",
       "      <td>...</td>\n",
       "    </tr>\n",
       "    <tr>\n",
       "      <th>89</th>\n",
       "      <td>Mount Green...</td>\n",
       "      <td>3.137931</td>\n",
       "    </tr>\n",
       "    <tr>\n",
       "      <th>90</th>\n",
       "      <td>Hegewisch</td>\n",
       "      <td>3.117647</td>\n",
       "    </tr>\n",
       "    <tr>\n",
       "      <th>91</th>\n",
       "      <td>Burnside</td>\n",
       "      <td>2.333333</td>\n",
       "    </tr>\n",
       "    <tr>\n",
       "      <th>92</th>\n",
       "      <td>East Side</td>\n",
       "      <td>1.961538</td>\n",
       "    </tr>\n",
       "    <tr>\n",
       "      <th>93</th>\n",
       "      <td>Riverdale</td>\n",
       "      <td>1.800000</td>\n",
       "    </tr>\n",
       "  </tbody>\n",
       "</table>\n",
       "<p>94 rows × 2 columns</p>\n",
       "</div>"
      ],
      "text/plain": [
       "   dropoff_location_name  average_trips\n",
       "0             Loop         10727.466667\n",
       "1      River North          9523.666667\n",
       "2    Streeterville          6664.666667\n",
       "3        West Loop          5163.666667\n",
       "4           O'Hare          2546.900000\n",
       "..             ...                  ...\n",
       "89  Mount Green...             3.137931\n",
       "90       Hegewisch             3.117647\n",
       "91        Burnside             2.333333\n",
       "92       East Side             1.961538\n",
       "93       Riverdale             1.800000\n",
       "\n",
       "[94 rows x 2 columns]"
      ]
     },
     "execution_count": 8,
     "metadata": {},
     "output_type": "execute_result"
    }
   ],
   "source": [
    "df_location_trips"
   ]
  },
  {
   "cell_type": "markdown",
   "id": "f1b1e9dc",
   "metadata": {},
   "source": [
    "#### 3. __Data Types__"
   ]
  },
  {
   "cell_type": "code",
   "execution_count": 10,
   "id": "62f4ae89",
   "metadata": {},
   "outputs": [],
   "source": [
    "df_company_trips['company_name'] = df_company_trips['company_name'].astype('string')"
   ]
  },
  {
   "cell_type": "code",
   "execution_count": 11,
   "id": "e618c3a8",
   "metadata": {},
   "outputs": [
    {
     "name": "stdout",
     "output_type": "stream",
     "text": [
      "<class 'pandas.core.frame.DataFrame'>\n",
      "RangeIndex: 64 entries, 0 to 63\n",
      "Data columns (total 2 columns):\n",
      " #   Column        Non-Null Count  Dtype \n",
      "---  ------        --------------  ----- \n",
      " 0   company_name  64 non-null     string\n",
      " 1   trips_amount  64 non-null     int64 \n",
      "dtypes: int64(1), string(1)\n",
      "memory usage: 1.1 KB\n"
     ]
    }
   ],
   "source": [
    "df_company_trips.info()"
   ]
  },
  {
   "cell_type": "code",
   "execution_count": 13,
   "id": "e4e28b02",
   "metadata": {},
   "outputs": [],
   "source": [
    "df_location_trips['dropoff_location_name'] = df_location_trips['dropoff_location_name'].astype('string')"
   ]
  },
  {
   "cell_type": "code",
   "execution_count": 14,
   "id": "3aeaf93e",
   "metadata": {},
   "outputs": [
    {
     "name": "stdout",
     "output_type": "stream",
     "text": [
      "<class 'pandas.core.frame.DataFrame'>\n",
      "RangeIndex: 94 entries, 0 to 93\n",
      "Data columns (total 2 columns):\n",
      " #   Column                 Non-Null Count  Dtype  \n",
      "---  ------                 --------------  -----  \n",
      " 0   dropoff_location_name  94 non-null     string \n",
      " 1   average_trips          94 non-null     float64\n",
      "dtypes: float64(1), string(1)\n",
      "memory usage: 1.6 KB\n"
     ]
    }
   ],
   "source": [
    "df_location_trips.info()"
   ]
  },
  {
   "cell_type": "markdown",
   "id": "990143af",
   "metadata": {},
   "source": [
    "#### 4. __Top 10 Neighborhoods in terms of trips' completion__"
   ]
  },
  {
   "cell_type": "code",
   "execution_count": 16,
   "id": "f9e34607",
   "metadata": {},
   "outputs": [
    {
     "data": {
      "application/vnd.microsoft.datawrangler.viewer.v0+json": {
       "columns": [
        {
         "name": "index",
         "rawType": "int64",
         "type": "integer"
        },
        {
         "name": "dropoff_location_name",
         "rawType": "string",
         "type": "string"
        },
        {
         "name": "average_trips",
         "rawType": "float64",
         "type": "float"
        }
       ],
       "ref": "8c1f8add-4de1-4ac3-ae8a-041c1628c483",
       "rows": [
        [
         "0",
         "Loop",
         "10727.466666666667"
        ],
        [
         "1",
         "River North",
         "9523.666666666666"
        ],
        [
         "2",
         "Streeterville",
         "6664.666666666667"
        ],
        [
         "3",
         "West Loop",
         "5163.666666666667"
        ],
        [
         "4",
         "O'Hare",
         "2546.9"
        ],
        [
         "5",
         "Lake View",
         "2420.9666666666667"
        ],
        [
         "6",
         "Grant Park",
         "2068.5333333333333"
        ],
        [
         "7",
         "Museum Campus",
         "1510.0"
        ],
        [
         "8",
         "Gold Coast",
         "1364.2333333333331"
        ],
        [
         "9",
         "Sheffield & DePaul",
         "1259.7666666666669"
        ]
       ],
       "shape": {
        "columns": 2,
        "rows": 10
       }
      },
      "text/html": [
       "<div>\n",
       "<style scoped>\n",
       "    .dataframe tbody tr th:only-of-type {\n",
       "        vertical-align: middle;\n",
       "    }\n",
       "\n",
       "    .dataframe tbody tr th {\n",
       "        vertical-align: top;\n",
       "    }\n",
       "\n",
       "    .dataframe thead th {\n",
       "        text-align: right;\n",
       "    }\n",
       "</style>\n",
       "<table border=\"1\" class=\"dataframe\">\n",
       "  <thead>\n",
       "    <tr style=\"text-align: right;\">\n",
       "      <th></th>\n",
       "      <th>dropoff_location_name</th>\n",
       "      <th>average_trips</th>\n",
       "    </tr>\n",
       "  </thead>\n",
       "  <tbody>\n",
       "    <tr>\n",
       "      <th>0</th>\n",
       "      <td>Loop</td>\n",
       "      <td>10727.466667</td>\n",
       "    </tr>\n",
       "    <tr>\n",
       "      <th>1</th>\n",
       "      <td>River North</td>\n",
       "      <td>9523.666667</td>\n",
       "    </tr>\n",
       "    <tr>\n",
       "      <th>2</th>\n",
       "      <td>Streeterville</td>\n",
       "      <td>6664.666667</td>\n",
       "    </tr>\n",
       "    <tr>\n",
       "      <th>3</th>\n",
       "      <td>West Loop</td>\n",
       "      <td>5163.666667</td>\n",
       "    </tr>\n",
       "    <tr>\n",
       "      <th>4</th>\n",
       "      <td>O'Hare</td>\n",
       "      <td>2546.900000</td>\n",
       "    </tr>\n",
       "    <tr>\n",
       "      <th>5</th>\n",
       "      <td>Lake View</td>\n",
       "      <td>2420.966667</td>\n",
       "    </tr>\n",
       "    <tr>\n",
       "      <th>6</th>\n",
       "      <td>Grant Park</td>\n",
       "      <td>2068.533333</td>\n",
       "    </tr>\n",
       "    <tr>\n",
       "      <th>7</th>\n",
       "      <td>Museum Campus</td>\n",
       "      <td>1510.000000</td>\n",
       "    </tr>\n",
       "    <tr>\n",
       "      <th>8</th>\n",
       "      <td>Gold Coast</td>\n",
       "      <td>1364.233333</td>\n",
       "    </tr>\n",
       "    <tr>\n",
       "      <th>9</th>\n",
       "      <td>Sheffield &amp;...</td>\n",
       "      <td>1259.766667</td>\n",
       "    </tr>\n",
       "  </tbody>\n",
       "</table>\n",
       "</div>"
      ],
      "text/plain": [
       "  dropoff_location_name  average_trips\n",
       "0            Loop         10727.466667\n",
       "1     River North          9523.666667\n",
       "2   Streeterville          6664.666667\n",
       "3       West Loop          5163.666667\n",
       "4          O'Hare          2546.900000\n",
       "5       Lake View          2420.966667\n",
       "6      Grant Park          2068.533333\n",
       "7   Museum Campus          1510.000000\n",
       "8      Gold Coast          1364.233333\n",
       "9  Sheffield &...          1259.766667"
      ]
     },
     "execution_count": 16,
     "metadata": {},
     "output_type": "execute_result"
    }
   ],
   "source": [
    "df_location_trips_top_10 = df_location_trips.sort_values(by='average_trips', ascending=False).head(10)\n",
    "df_location_trips_top_10"
   ]
  },
  {
   "cell_type": "markdown",
   "id": "8a74f233",
   "metadata": {},
   "source": [
    "#### 5. __Graphs__"
   ]
  },
  {
   "cell_type": "markdown",
   "id": "4be25b65",
   "metadata": {},
   "source": [
    "5.1 __Company Name - Trips Amount__ "
   ]
  },
  {
   "cell_type": "code",
   "execution_count": 21,
   "id": "eb7f28bb",
   "metadata": {},
   "outputs": [
    {
     "data": {
      "image/png": "[encoded data removed]",
      "text/plain": [
       "<Figure size 1500x700 with 1 Axes>"
      ]
     },
     "metadata": {},
     "output_type": "display_data"
    }
   ],
   "source": [
    "plt.figure(figsize=(15,7))\n",
    "plt.bar(df_company_trips['company_name'], df_company_trips['trips_amount'], color='grey')\n",
    "\n",
    "plt.xlabel('Taxi Company Name')\n",
    "plt.ylabel('Trips Amount')\n",
    "plt.title('Trips Amount per Taxi company')\n",
    "plt.xticks(rotation=90)\n",
    "\n",
    "plt.show()"
   ]
  },
  {
   "cell_type": "markdown",
   "id": "390cd218",
   "metadata": {},
   "source": [
    "5.1 __Top 10 Neighborhoods - avg Trips__ "
   ]
  },
  {
   "cell_type": "code",
   "execution_count": 22,
   "id": "5239b50f",
   "metadata": {},
   "outputs": [
    {
     "data": {
      "image/png": "[encoded data removed]",
      "text/plain": [
       "<Figure size 1500x700 with 1 Axes>"
      ]
     },
     "metadata": {},
     "output_type": "display_data"
    }
   ],
   "source": [
    "plt.figure(figsize=(15,7))\n",
    "plt.bar(df_location_trips_top_10['dropoff_location_name'], df_location_trips_top_10['average_trips'], color='grey')\n",
    "\n",
    "plt.xlabel('Dropoff Neighborhood')\n",
    "plt.ylabel('Average Trips')\n",
    "plt.title('Top 10 Neighborhoods - Average Trips')\n",
    "plt.xticks(rotation=90)\n",
    "\n",
    "plt.show()"
   ]
  },
  {
   "cell_type": "markdown",
   "id": "7cd6c2a5",
   "metadata": {},
   "source": [
    "#### __Conclusions__\n",
    "\n",
    "1. The graph __Company Name - Trips Amount__ shows the distribution of the number of trips made by different taxi companies. The analysis reveals a high concentration of activity among a few companies, while most report significantly lower trip volumes.\n",
    "\n",
    "    _Key Observations_:\n",
    "\n",
    "    Dominance of a Few Players:\n",
    "\n",
    "    Companies such as Flash Cab, Taxi Affiliation Services, and Medallion Leases are leading the way in trip numbers, standing out with significant margins compared to the rest. For example, Flash Cab exceeds 19,000 trips, while the fourth-largest company is already below 10,000.\n",
    "\n",
    "    More than 50 companies report trip numbers below 2,000, many of them with marginal volumes (< 500).\n",
    "\n",
    "    This pattern indicates companies or independent licensees with minimal participation, likely with limited or intermittent operations.\n",
    "\n",
    "    Possible aliases or name inconsistencies:\n",
    "\n",
    "    Some records appear to correspond to duplicate or mislabeled entities (for example, numeric names like “3721 - Santamaria Express” or simply numeric codes). This suggests that there may be standardization issues in the database, which warrants cleaning and consolidation to avoid analytical errors.\n",
    "\n",
    "2. The graph __Top 10 Neighborhoods - avg Trips__ represents the 10 neighborhoods with the highest average number of taxi trips as the final destination, offering a clear view of urban mobility patterns and the areas with the highest demand for transportation services.\n",
    "\n",
    "    _Key Observations_:\n",
    "\n",
    "    _High concentration_ maybe in downtown and business areas:\n",
    "\n",
    "    The Loop, River North, and Streeterville top the ranking with significantly higher averages than the rest, might be cuased for central areas with a high density of offices, shops, and tourism, reeflecting typical behavior in large cities: generating greater travel attraction.\n",
    "\n",
    "    _Lower share_ of residential areas:\n",
    "\n",
    "    Neighborhoods such as Sheffield & DePaul and Gold Coast, although ranked, have lower averages, suggesting less attractiveness as destinations.\n"
   ]
  },
  {
   "cell_type": "markdown",
   "id": "6c2b555b",
   "metadata": {},
   "source": [
    "#### 6. __Hypothesis Test__\n",
    "\n",
    "_/datasets/project_sql_result_07.csv_ — the result of the last query. It contains data on trips from the Loop to O'Hare International Airport. Remember, these are the table's field values:\n",
    "\n",
    "`start_ts`: Pickup date and time   \n",
    "`weather_conditions`: Weather conditions at the time the trip started   \n",
    "`duration_seconds`: Trip duration in seconds   \n",
    "\n",
    "- Test the hypothesis:\n",
    "\n",
    "    \"The average trip duration from the Loop to O'Hare International Airport changes on rainy Saturdays.\"\n",
    "\n",
    "    Decide on your own where to set the significance level (alpha).\n",
    "\n",
    "    Explain:\n",
    "\n",
    "    1. How you formulated the null and alternative hypotheses\n",
    "    2. What criteria you used to test the hypotheses and why"
   ]
  },
  {
   "cell_type": "markdown",
   "id": "efa066cc",
   "metadata": {},
   "source": [
    "#### 6.1  Inferential Tests.\n",
    "\n",
    "Hypotheses:  _\"The average trip duration from the Loop to O'Hare International Airport changes on rainy Saturdays.\"_"
   ]
  },
  {
   "cell_type": "markdown",
   "id": "58ecdc4e",
   "metadata": {},
   "source": [
    "6.1.1  Hypotheses testing:"
   ]
  },
  {
   "cell_type": "code",
   "execution_count": 26,
   "id": "6afcc5d9",
   "metadata": {},
   "outputs": [],
   "source": [
    "# Hypothesis: \"The average trip duration from the Loop to O'Hare International Airport changes on rainy Saturdays.\"\n",
    "\n",
    "# 1. Hypotheses H0, H1\n",
    "# H0: \"The average trip duration from the Loop to O'Hare International Airport do not change on rainy Saturdays.\" are equal (==)\n",
    "# H1: \"The average trip duration from the Loop to O'Hare International Airport changes on rainy Saturdays.\" are different (!=)\n",
    "\n",
    "# Prepare data by plans\n",
    "df_weather_condition_good = df_trips_time_weather_duration.loc[df_trips_time_weather_duration['weather_conditions'] == 'Good', 'duration_seconds']\n",
    "df_weather_condition_bad = df_trips_time_weather_duration.loc[df_trips_time_weather_duration['weather_conditions'] == 'Bad', 'duration_seconds']\n",
    "\n",
    "# 2. Specify Significance or Confidence\n",
    "# alpha = 5%\n",
    "# confidence = 95%\n",
    "\n",
    "alpha = 0.05"
   ]
  },
  {
   "cell_type": "code",
   "execution_count": 27,
   "id": "08a7cdaf",
   "metadata": {},
   "outputs": [
    {
     "data": {
      "text/html": [
       "<b>Levene's Test</b> – Statistic: 0.3885, P-value: 0.5332"
      ],
      "text/plain": [
       "<IPython.core.display.HTML object>"
      ]
     },
     "metadata": {},
     "output_type": "display_data"
    },
    {
     "data": {
      "text/html": [
       "<i>Null Hypothesis H₀ is not rejected: the variances are equal (homoscedasticity) → use equal_var=True (Normal version)</i>"
      ],
      "text/plain": [
       "<IPython.core.display.HTML object>"
      ]
     },
     "metadata": {},
     "output_type": "display_data"
    }
   ],
   "source": [
    "# Levene's test, to ensure that the variances of different samples are equal and independent.\n",
    "# Preventing tests like ANOVA and t-Tests from beingeing \"incorrect\", increasing the probability of incurring in type 1 or 2 errors\n",
    "\n",
    "levene_stat, levene_p = st.levene(df_weather_condition_good, df_weather_condition_bad)\n",
    "display(HTML(f\"<b>Levene's Test</b> – Statistic: {levene_stat:.4f}, P-value: {levene_p:.4f}\"))\n",
    "\n",
    "# Determining Equality of Variances\n",
    "if levene_p < 0.05:\n",
    "    equal_var = False\n",
    "    display(HTML(\"<i>Null Hypothesis H₀ is rejected: the variances are different (heteroscedasticity) → use equal_var=False (Welch version)</i>\"))\n",
    "else:\n",
    "    equal_var = True\n",
    "    display(HTML(\"<i>Null Hypothesis H₀ is not rejected: the variances are equal (homoscedasticity) → use equal_var=True (Normal version)</i>\"))"
   ]
  },
  {
   "cell_type": "code",
   "execution_count": 29,
   "id": "e1408a23",
   "metadata": {},
   "outputs": [
    {
     "data": {
      "text/html": [
       "T-statistic: <b>-6.946177714041499</b>"
      ],
      "text/plain": [
       "<IPython.core.display.HTML object>"
      ]
     },
     "metadata": {},
     "output_type": "display_data"
    },
    {
     "data": {
      "text/html": [
       "P-value: <b>0.000000000006518</b>"
      ],
      "text/plain": [
       "<IPython.core.display.HTML object>"
      ]
     },
     "metadata": {},
     "output_type": "display_data"
    },
    {
     "data": {
      "text/html": [
       "The <i>'H₀ null hypothesis' is rejected</i>, indicating sufficient statistical evidence to affirm that <b>The average trip duration from the Loop to O'Hare International Airport differs significantly between good and bad weather Saturdays.</b>"
      ],
      "text/plain": [
       "<IPython.core.display.HTML object>"
      ]
     },
     "metadata": {},
     "output_type": "display_data"
    }
   ],
   "source": [
    "# 3. Calculate critical and test values, define acceptance and rejection zones\n",
    "\n",
    "t_stat, p_val = ttest_ind(df_weather_condition_good, df_weather_condition_bad, equal_var=True)\n",
    "\n",
    "display(HTML(f\"T-statistic: <b>{t_stat:.15f}</b>\"))\n",
    "display(HTML(f\"P-value: <b>{p_val:.15f}</b>\"))\n",
    "\n",
    "# 4. Decision and Conclusion\n",
    "\n",
    "if p_val < alpha:\n",
    "    display(HTML(\"The <i>'H₀ null hypothesis' is rejected</i>, indicating sufficient statistical evidence to affirm that <b>The average trip duration from the Loop to O'Hare International Airport differs significantly between good and bad weather Saturdays.</b>\"))\n",
    "else:\n",
    "    display(HTML(\"The <i>'H₀ null hypothesis' is not rejected</i>, indicating insufficient statistical evidence to conclude that <b>The average trip duration from the Loop to O'Hare International Airport differs significantly between good and bad weather Saturdays</b>.\"))\n"
   ]
  },
  {
   "cell_type": "markdown",
   "id": "240928af",
   "metadata": {},
   "source": [
    "## Hypothesis Formulation and Testing Criteria\n",
    "\n",
    "### 1. How were the null and alternative hypotheses formulated?\n",
    "\n",
    "The objective of this analysis was to evaluate whether weather (good vs. bad) has a significant effect on the **average trip duration** from the Loop to O'Hare International Airport on Saturdays.\n",
    "\n",
    "#### `Null Hypothesis (H₀)`:\n",
    "> The average trip duration **does not differ significantly** between Saturdays with good weather and Saturdays with bad weather.\n",
    "\n",
    "Formally:\n",
    "\n",
    "\n",
    "H_0: muGood = muBad\n",
    "\n",
    "\n",
    "#### `Alternative Hypothesis (H₁)`:\n",
    "> The average trip duration **does differ significantly** between Saturdays with good weather and Saturdays with bad weather.\n",
    "\n",
    "Formally:\n",
    "\n",
    "\n",
    "H_1: muGood != muBad\n",
    "\n",
    "\n",
    "> ⚠️ This is a two-tailed test, since it is not specified whether bad weather increases or decreases the duration—only that there could be a difference in either direction.\n",
    "\n",
    "\n",
    "### 2. What criterion was used to test the hypotheses and why?\n",
    "\n",
    "#### Applied statistical test:\n",
    "\n",
    "A Student's t-test for independent samples (`ttest_ind`) was used to compare the mean trip durations between the two groups of interest:\n",
    "\n",
    "- **Group 1:** Saturdays with good weather.\n",
    "- **Group 2:** Saturdays with bad weather.\n",
    "\n",
    "#### Test assumptions:\n",
    "\n",
    "- The observations between the two groups are independent.\n",
    "- Equal variance between groups was assumed (`equal_var=True`), and verified with a Levene's test.\n",
    "\n",
    "#### Significance level:\n",
    "\n",
    "A significance level was set at:\n",
    "\n",
    "\\[\n",
    "\\alpha = 0.05\n",
    "\\]\n",
    "\n",
    "#### Decision criterion:\n",
    "\n",
    "- If the **p-value < α** → **H₀** is rejected. There is statistically significant evidence to support the claim that climate affects trip duration.\n",
    "- If the **p-value ≥ α** → **H₀** is not rejected. There is insufficient evidence to support the claim that climate has a significant effect.\n",
    "\n",
    "#### Justification:\n",
    "\n",
    "The p-value represents the probability of observing a difference equal to or more extreme than the one found, assuming the null hypothesis is true. If this probability is low (less than 0.05), it is concluded that the observed difference is unlikely to be due to chance.\n"
   ]
  }
 ],
 "metadata": {
  "kernelspec": {
   "display_name": "Win11_Python-Mature-PipVenv-Github-3.10",
   "language": "python",
   "name": "python3"
  },
  "language_info": {
   "codemirror_mode": {
    "name": "ipython",
    "version": 3
   },
   "file_extension": ".py",
   "mimetype": "text/x-python",
   "name": "python",
   "nbconvert_exporter": "python",
   "pygments_lexer": "ipython3",
   "version": "3.10.0"
  }
 },
 "nbformat": 4,
 "nbformat_minor": 5
}
