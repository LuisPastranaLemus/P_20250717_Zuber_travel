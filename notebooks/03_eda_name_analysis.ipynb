{
 "cells": [
  {
   "cell_type": "markdown",
   "id": "a1013021",
   "metadata": {},
   "source": [
    "#### Exploratory Data Analysis (EDA)\n",
    "\n",
    "Dataset: \n",
    "- _cabs_clean.csv_\n",
    "- _neighborhoods_clean.csv_\n",
    "- _trips_clean.csv_\n",
    "- _weather_records_clean.csv_\n",
    "\n",
    "Author: Luis Sergio Pastrana Lemus  \n",
    "Date: 2025-07-17"
   ]
  },
  {
   "cell_type": "markdown",
   "id": "ba47d374",
   "metadata": {},
   "source": [
    "# Exploratory Data Analysis – xxx Activity Dataset"
   ]
  },
  {
   "cell_type": "markdown",
   "id": "8f19462b",
   "metadata": {},
   "source": [
    "## __1. Libraries__."
   ]
  },
  {
   "cell_type": "code",
   "execution_count": 1,
   "id": "94199476",
   "metadata": {},
   "outputs": [],
   "source": [
    "from pathlib import Path\n",
    "import sys\n",
    "\n",
    "# Define project root dynamically, gets the current directory from which the notebook belongs and moves one level upper\n",
    "project_root = Path.cwd().parent\n",
    "\n",
    "# Add src to sys.path if it is not already\n",
    "if str(project_root) not in sys.path:\n",
    "\n",
    "    sys.path.append(str(project_root))\n",
    "\n",
    "# Import function directly (more controlled than import *)\n",
    "from src import *\n",
    "\n",
    "\n",
    "from IPython.display import display, HTML\n",
    "import os\n",
    "import pandas as pd"
   ]
  },
  {
   "cell_type": "markdown",
   "id": "cf3f11d4",
   "metadata": {},
   "source": [
    "## __2. Path to Data file__."
   ]
  },
  {
   "cell_type": "code",
   "execution_count": 2,
   "id": "1767a2de",
   "metadata": {},
   "outputs": [],
   "source": [
    "# Build route to data file and upload\n",
    "data_file_path = project_root / \"data\" / \"processed\" / \"clean\"\n",
    "\n",
    "df_cabs_clean = load_dataset_from_csv(data_file_path, \"cabs_clean.csv\", sep=',', header='infer')\n",
    "df_neighborhoods_clean = load_dataset_from_csv(data_file_path, \"neighborhoods_clean.csv\", sep=',', header='infer')\n",
    "df_trips_clean = load_dataset_from_csv(data_file_path, \"trips_clean.csv\", sep=',', header='infer')\n",
    "df_weather_records_clean = load_dataset_from_csv(data_file_path, \"weather_records_clean.csv\", sep=',', header='infer')\n",
    "\n",
    "\n",
    "# data_file_path = project_root / \"data\" / \"processed\" / \"feature\"\n",
    "\n",
    "# df_xxx_feature = load_dataset_from_csv(data_file_path, \"xxx_feature.csv\", sep=',', header='infer')"
   ]
  },
  {
   "cell_type": "markdown",
   "id": "da9ebca7",
   "metadata": {},
   "source": [
    "## __3. Exploratory Data Analysis__."
   ]
  },
  {
   "cell_type": "markdown",
   "id": "c7d9003f",
   "metadata": {},
   "source": [
    "### 3.0 Casting Data types."
   ]
  },
  {
   "cell_type": "markdown",
   "id": "1b8f9ba8",
   "metadata": {},
   "source": [
    "#### 3.0.1 Casting to string data type."
   ]
  },
  {
   "cell_type": "code",
   "execution_count": 3,
   "id": "7d573fc7",
   "metadata": {},
   "outputs": [
    {
     "data": {
      "text/plain": [
       "string[python]"
      ]
     },
     "execution_count": 3,
     "metadata": {},
     "output_type": "execute_result"
    }
   ],
   "source": [
    "# df_cabs_clean 'vehicle_id' to string\n",
    "df_cabs_clean['vehicle_id'] = df_cabs_clean['vehicle_id'].astype('string')\n",
    "df_cabs_clean['vehicle_id'].dtypes"
   ]
  },
  {
   "cell_type": "code",
   "execution_count": 4,
   "id": "c6b3f4a1",
   "metadata": {},
   "outputs": [
    {
     "data": {
      "text/plain": [
       "string[python]"
      ]
     },
     "execution_count": 4,
     "metadata": {},
     "output_type": "execute_result"
    }
   ],
   "source": [
    "# df_cabs_clean 'company_name' to string\n",
    "df_cabs_clean['company_name'] = df_cabs_clean['company_name'].astype('string')\n",
    "df_cabs_clean['company_name'].dtypes"
   ]
  },
  {
   "cell_type": "code",
   "execution_count": 5,
   "id": "43619210",
   "metadata": {},
   "outputs": [
    {
     "data": {
      "text/plain": [
       "string[python]"
      ]
     },
     "execution_count": 5,
     "metadata": {},
     "output_type": "execute_result"
    }
   ],
   "source": [
    "# df_neighborhoods_clean 'name' to string\n",
    "df_neighborhoods_clean['name'] = df_neighborhoods_clean['name'].astype('string')\n",
    "df_neighborhoods_clean['name'].dtypes"
   ]
  },
  {
   "cell_type": "code",
   "execution_count": 6,
   "id": "dbe75f7c",
   "metadata": {},
   "outputs": [
    {
     "data": {
      "text/plain": [
       "string[python]"
      ]
     },
     "execution_count": 6,
     "metadata": {},
     "output_type": "execute_result"
    }
   ],
   "source": [
    "# df_weather_records_clean 'description' to string\n",
    "df_weather_records_clean['description'] = df_weather_records_clean['description'].astype('string')\n",
    "df_weather_records_clean['description'].dtypes"
   ]
  },
  {
   "cell_type": "markdown",
   "id": "82b6314d",
   "metadata": {},
   "source": [
    "#### 3.0.2 Casting to category data type."
   ]
  },
  {
   "cell_type": "code",
   "execution_count": 7,
   "id": "b90df4b1",
   "metadata": {},
   "outputs": [
    {
     "data": {
      "text/plain": [
       "CategoricalDtype(categories=['4623_27290_jay_kim', 'blue_ribbon_taxi_association_inc', 'chicago_independents', 'chicago_medallion_leasing_inc',\n",
       "                  'chicago_medallion_management', 'choice_taxi_association', 'dispatch_taxi_affiliation', 'koam_taxi_association',\n",
       "                  'star_north_management_llc', 'taxi_affiliation_services_yellow', 'top_cab_affiliation'],\n",
       ", ordered=False, categories_dtype=string)"
      ]
     },
     "execution_count": 7,
     "metadata": {},
     "output_type": "execute_result"
    }
   ],
   "source": [
    "# df_cabs_clean 'company_name' to category\n",
    "df_cabs_clean['company_name'] = df_cabs_clean['company_name'].astype('category')\n",
    "df_cabs_clean['company_name'].dtypes"
   ]
  },
  {
   "cell_type": "code",
   "execution_count": 8,
   "id": "583d3f97",
   "metadata": {},
   "outputs": [
    {
     "data": {
      "text/plain": [
       "CategoricalDtype(categories=['broken_clouds', 'drizzle', 'few_clouds', 'fog', 'haze', 'heavy_intensity_rain', 'light_intensity_drizzle', 'light_rain',\n",
       "                  'light_snow', 'mist', 'moderate_rain', 'overcast_clouds', 'proximity_thunderstorm', 'proximity_thunderstorm_with_rain',\n",
       "                  'scattered_clouds', 'sky_is_clear', 'thunderstorm_with_drizzle', 'thunderstorm_with_light_rain', 'thunderstorm_with_rain'],\n",
       ", ordered=False, categories_dtype=string)"
      ]
     },
     "execution_count": 8,
     "metadata": {},
     "output_type": "execute_result"
    }
   ],
   "source": [
    "# df_weather_records_clean 'description' to category\n",
    "df_weather_records_clean['description'] = df_weather_records_clean['description'].astype('category')\n",
    "df_weather_records_clean['description'].dtypes"
   ]
  },
  {
   "cell_type": "markdown",
   "id": "d54aa8e6",
   "metadata": {},
   "source": [
    "#### 3.0.3 Casting to datetime data type."
   ]
  },
  {
   "cell_type": "code",
   "execution_count": 9,
   "id": "5bb813ba",
   "metadata": {},
   "outputs": [
    {
     "data": {
      "text/plain": [
       "datetime64[ns, UTC]"
      ]
     },
     "execution_count": 9,
     "metadata": {},
     "output_type": "execute_result"
    }
   ],
   "source": [
    "# df_trips_clean 'start_ts' to datetime\n",
    "df_trips_clean = normalize_datetime(df_trips_clean, include=['start_ts'], frmt='%Y-%m-%d %H:%M:%S%z')\n",
    "df_trips_clean['start_ts'].dtypes"
   ]
  },
  {
   "cell_type": "code",
   "execution_count": 10,
   "id": "db1a5c78",
   "metadata": {},
   "outputs": [
    {
     "data": {
      "text/plain": [
       "datetime64[ns, UTC]"
      ]
     },
     "execution_count": 10,
     "metadata": {},
     "output_type": "execute_result"
    }
   ],
   "source": [
    "# df_trips_clean 'end_ts' to datetime\n",
    "df_trips_clean = normalize_datetime(df_trips_clean, include=['end_ts'], frmt='%Y-%m-%d %H:%M:%S%z')\n",
    "df_trips_clean['end_ts'].dtypes"
   ]
  },
  {
   "cell_type": "code",
   "execution_count": 11,
   "id": "d25e79a7",
   "metadata": {},
   "outputs": [
    {
     "data": {
      "text/plain": [
       "datetime64[ns, UTC]"
      ]
     },
     "execution_count": 11,
     "metadata": {},
     "output_type": "execute_result"
    }
   ],
   "source": [
    "# df_weather_records_clean 'date_and_time' to datetime\n",
    "df_weather_records_clean = normalize_datetime(df_weather_records_clean, include=['date_and_time'], frmt='%Y-%m-%d %H:%M:%S%z')\n",
    "df_weather_records_clean['date_and_time'].dtypes"
   ]
  },
  {
   "cell_type": "markdown",
   "id": "ccf94753",
   "metadata": {},
   "source": [
    "### 3.1  Descriptive Statistics."
   ]
  },
  {
   "cell_type": "markdown",
   "id": "845bbb12",
   "metadata": {},
   "source": [
    "#### 3.1.1 Descriptive statistics for Original datasets."
   ]
  },
  {
   "cell_type": "code",
   "execution_count": 12,
   "id": "abea6d60",
   "metadata": {},
   "outputs": [
    {
     "data": {
      "application/vnd.microsoft.datawrangler.viewer.v0+json": {
       "columns": [
        {
         "name": "index",
         "rawType": "object",
         "type": "string"
        },
        {
         "name": "cab_id",
         "rawType": "float64",
         "type": "float"
        },
        {
         "name": "vehicle_id",
         "rawType": "object",
         "type": "unknown"
        },
        {
         "name": "company_name",
         "rawType": "object",
         "type": "unknown"
        }
       ],
       "ref": "9fb35903-8f6d-4938-b637-7a0a55be3bd9",
       "rows": [
        [
         "count",
         "200.0",
         "200",
         "200"
        ],
        [
         "unique",
         null,
         "200",
         "11"
        ],
        [
         "top",
         null,
         "0fc17a66d66501eebb7d065fab0db585a1e546ea6e52aae6327212d4fc8a56da1368bc5a78ba499c4c79074a135d2c2efd199ee31705621c851f07d363c65df0",
         "taxi_affiliation_services_yellow"
        ],
        [
         "freq",
         null,
         "1",
         "70"
        ],
        [
         "mean",
         "99.5",
         null,
         null
        ],
        [
         "std",
         "57.879184513951124",
         null,
         null
        ],
        [
         "min",
         "0.0",
         null,
         null
        ],
        [
         "25%",
         "49.75",
         null,
         null
        ],
        [
         "50%",
         "99.5",
         null,
         null
        ],
        [
         "75%",
         "149.25",
         null,
         null
        ],
        [
         "max",
         "199.0",
         null,
         null
        ]
       ],
       "shape": {
        "columns": 3,
        "rows": 11
       }
      },
      "text/html": [
       "<div>\n",
       "<style scoped>\n",
       "    .dataframe tbody tr th:only-of-type {\n",
       "        vertical-align: middle;\n",
       "    }\n",
       "\n",
       "    .dataframe tbody tr th {\n",
       "        vertical-align: top;\n",
       "    }\n",
       "\n",
       "    .dataframe thead th {\n",
       "        text-align: right;\n",
       "    }\n",
       "</style>\n",
       "<table border=\"1\" class=\"dataframe\">\n",
       "  <thead>\n",
       "    <tr style=\"text-align: right;\">\n",
       "      <th></th>\n",
       "      <th>cab_id</th>\n",
       "      <th>vehicle_id</th>\n",
       "      <th>company_name</th>\n",
       "    </tr>\n",
       "  </thead>\n",
       "  <tbody>\n",
       "    <tr>\n",
       "      <th>count</th>\n",
       "      <td>200.000000</td>\n",
       "      <td>200</td>\n",
       "      <td>200</td>\n",
       "    </tr>\n",
       "    <tr>\n",
       "      <th>unique</th>\n",
       "      <td>NaN</td>\n",
       "      <td>200</td>\n",
       "      <td>11</td>\n",
       "    </tr>\n",
       "    <tr>\n",
       "      <th>top</th>\n",
       "      <td>NaN</td>\n",
       "      <td>0fc17a66d66...</td>\n",
       "      <td>taxi_affili...</td>\n",
       "    </tr>\n",
       "    <tr>\n",
       "      <th>freq</th>\n",
       "      <td>NaN</td>\n",
       "      <td>1</td>\n",
       "      <td>70</td>\n",
       "    </tr>\n",
       "    <tr>\n",
       "      <th>mean</th>\n",
       "      <td>99.500000</td>\n",
       "      <td>NaN</td>\n",
       "      <td>NaN</td>\n",
       "    </tr>\n",
       "    <tr>\n",
       "      <th>std</th>\n",
       "      <td>57.879185</td>\n",
       "      <td>NaN</td>\n",
       "      <td>NaN</td>\n",
       "    </tr>\n",
       "    <tr>\n",
       "      <th>min</th>\n",
       "      <td>0.000000</td>\n",
       "      <td>NaN</td>\n",
       "      <td>NaN</td>\n",
       "    </tr>\n",
       "    <tr>\n",
       "      <th>25%</th>\n",
       "      <td>49.750000</td>\n",
       "      <td>NaN</td>\n",
       "      <td>NaN</td>\n",
       "    </tr>\n",
       "    <tr>\n",
       "      <th>50%</th>\n",
       "      <td>99.500000</td>\n",
       "      <td>NaN</td>\n",
       "      <td>NaN</td>\n",
       "    </tr>\n",
       "    <tr>\n",
       "      <th>75%</th>\n",
       "      <td>149.250000</td>\n",
       "      <td>NaN</td>\n",
       "      <td>NaN</td>\n",
       "    </tr>\n",
       "    <tr>\n",
       "      <th>max</th>\n",
       "      <td>199.000000</td>\n",
       "      <td>NaN</td>\n",
       "      <td>NaN</td>\n",
       "    </tr>\n",
       "  </tbody>\n",
       "</table>\n",
       "</div>"
      ],
      "text/plain": [
       "            cab_id      vehicle_id    company_name\n",
       "count   200.000000             200             200\n",
       "unique         NaN             200              11\n",
       "top            NaN  0fc17a66d66...  taxi_affili...\n",
       "freq           NaN               1              70\n",
       "mean     99.500000             NaN             NaN\n",
       "std      57.879185             NaN             NaN\n",
       "min       0.000000             NaN             NaN\n",
       "25%      49.750000             NaN             NaN\n",
       "50%      99.500000             NaN             NaN\n",
       "75%     149.250000             NaN             NaN\n",
       "max     199.000000             NaN             NaN"
      ]
     },
     "execution_count": 12,
     "metadata": {},
     "output_type": "execute_result"
    }
   ],
   "source": [
    "# Descriptive statistics for df_cabs_clean dataset\n",
    "df_cabs_clean.describe(include='all')"
   ]
  },
  {
   "cell_type": "code",
   "execution_count": 13,
   "id": "f141c4b9",
   "metadata": {},
   "outputs": [
    {
     "data": {
      "application/vnd.microsoft.datawrangler.viewer.v0+json": {
       "columns": [
        {
         "name": "index",
         "rawType": "object",
         "type": "string"
        },
        {
         "name": "neighborhood_id",
         "rawType": "float64",
         "type": "float"
        },
        {
         "name": "name",
         "rawType": "object",
         "type": "unknown"
        }
       ],
       "ref": "0c1af7fe-ab4c-4a99-8158-d838b3e2c9ff",
       "rows": [
        [
         "count",
         "94.0",
         "94"
        ],
        [
         "unique",
         null,
         "94"
        ],
        [
         "top",
         null,
         "albany_park"
        ],
        [
         "freq",
         null,
         "1"
        ],
        [
         "mean",
         "46.5",
         null
        ],
        [
         "std",
         "27.279418371121235",
         null
        ],
        [
         "min",
         "0.0",
         null
        ],
        [
         "25%",
         "23.25",
         null
        ],
        [
         "50%",
         "46.5",
         null
        ],
        [
         "75%",
         "69.75",
         null
        ],
        [
         "max",
         "93.0",
         null
        ]
       ],
       "shape": {
        "columns": 2,
        "rows": 11
       }
      },
      "text/html": [
       "<div>\n",
       "<style scoped>\n",
       "    .dataframe tbody tr th:only-of-type {\n",
       "        vertical-align: middle;\n",
       "    }\n",
       "\n",
       "    .dataframe tbody tr th {\n",
       "        vertical-align: top;\n",
       "    }\n",
       "\n",
       "    .dataframe thead th {\n",
       "        text-align: right;\n",
       "    }\n",
       "</style>\n",
       "<table border=\"1\" class=\"dataframe\">\n",
       "  <thead>\n",
       "    <tr style=\"text-align: right;\">\n",
       "      <th></th>\n",
       "      <th>neighborhood_id</th>\n",
       "      <th>name</th>\n",
       "    </tr>\n",
       "  </thead>\n",
       "  <tbody>\n",
       "    <tr>\n",
       "      <th>count</th>\n",
       "      <td>94.000000</td>\n",
       "      <td>94</td>\n",
       "    </tr>\n",
       "    <tr>\n",
       "      <th>unique</th>\n",
       "      <td>NaN</td>\n",
       "      <td>94</td>\n",
       "    </tr>\n",
       "    <tr>\n",
       "      <th>top</th>\n",
       "      <td>NaN</td>\n",
       "      <td>albany_park</td>\n",
       "    </tr>\n",
       "    <tr>\n",
       "      <th>freq</th>\n",
       "      <td>NaN</td>\n",
       "      <td>1</td>\n",
       "    </tr>\n",
       "    <tr>\n",
       "      <th>mean</th>\n",
       "      <td>46.500000</td>\n",
       "      <td>NaN</td>\n",
       "    </tr>\n",
       "    <tr>\n",
       "      <th>std</th>\n",
       "      <td>27.279418</td>\n",
       "      <td>NaN</td>\n",
       "    </tr>\n",
       "    <tr>\n",
       "      <th>min</th>\n",
       "      <td>0.000000</td>\n",
       "      <td>NaN</td>\n",
       "    </tr>\n",
       "    <tr>\n",
       "      <th>25%</th>\n",
       "      <td>23.250000</td>\n",
       "      <td>NaN</td>\n",
       "    </tr>\n",
       "    <tr>\n",
       "      <th>50%</th>\n",
       "      <td>46.500000</td>\n",
       "      <td>NaN</td>\n",
       "    </tr>\n",
       "    <tr>\n",
       "      <th>75%</th>\n",
       "      <td>69.750000</td>\n",
       "      <td>NaN</td>\n",
       "    </tr>\n",
       "    <tr>\n",
       "      <th>max</th>\n",
       "      <td>93.000000</td>\n",
       "      <td>NaN</td>\n",
       "    </tr>\n",
       "  </tbody>\n",
       "</table>\n",
       "</div>"
      ],
      "text/plain": [
       "        neighborhood_id         name\n",
       "count        94.000000            94\n",
       "unique             NaN            94\n",
       "top                NaN   albany_park\n",
       "freq               NaN             1\n",
       "mean         46.500000           NaN\n",
       "std          27.279418           NaN\n",
       "min           0.000000           NaN\n",
       "25%          23.250000           NaN\n",
       "50%          46.500000           NaN\n",
       "75%          69.750000           NaN\n",
       "max          93.000000           NaN"
      ]
     },
     "execution_count": 13,
     "metadata": {},
     "output_type": "execute_result"
    }
   ],
   "source": [
    "# Descriptive statistics for df_neighborhoods_clean dataset\n",
    "df_neighborhoods_clean.describe(include='all')"
   ]
  },
  {
   "cell_type": "code",
   "execution_count": 14,
   "id": "fa675093",
   "metadata": {},
   "outputs": [
    {
     "data": {
      "application/vnd.microsoft.datawrangler.viewer.v0+json": {
       "columns": [
        {
         "name": "index",
         "rawType": "object",
         "type": "string"
        },
        {
         "name": "trip_id",
         "rawType": "float64",
         "type": "float"
        },
        {
         "name": "cab_id",
         "rawType": "float64",
         "type": "float"
        },
        {
         "name": "start_ts",
         "rawType": "object",
         "type": "unknown"
        },
        {
         "name": "end_ts",
         "rawType": "object",
         "type": "unknown"
        },
        {
         "name": "duration_seconds",
         "rawType": "float64",
         "type": "float"
        },
        {
         "name": "distance_miles",
         "rawType": "float64",
         "type": "float"
        },
        {
         "name": "pickup_location_id",
         "rawType": "float64",
         "type": "float"
        },
        {
         "name": "dropoff_location_id",
         "rawType": "float64",
         "type": "float"
        }
       ],
       "ref": "61093933-9ba6-4bfc-bce5-60fd4f20d98c",
       "rows": [
        [
         "count",
         "200.0",
         "200.0",
         "200",
         "200",
         "200.0",
         "200.0",
         "200.0",
         "200.0"
        ],
        [
         "mean",
         "100.5",
         "49.08",
         "2017-11-16 11:44:06+00:00",
         "2017-11-16 11:48:36+00:00",
         "290.945",
         "0.8664499999999999",
         "25.79",
         "24.71"
        ],
        [
         "min",
         "1.0",
         "0.0",
         "2017-11-01 09:00:00+00:00",
         "2017-11-01 09:00:00+00:00",
         "0.0",
         "0.0",
         "0.0",
         "0.0"
        ],
        [
         "25%",
         "50.75",
         "15.75",
         "2017-11-08 17:30:00+00:00",
         "2017-11-08 18:15:00+00:00",
         "5.5",
         "0.0",
         "11.0",
         "9.0"
        ],
        [
         "50%",
         "100.5",
         "46.0",
         "2017-11-17 23:00:00+00:00",
         "2017-11-17 23:00:00+00:00",
         "120.0",
         "0.3",
         "19.0",
         "17.0"
        ],
        [
         "75%",
         "150.25",
         "72.0",
         "2017-11-23 16:15:00+00:00",
         "2017-11-23 17:00:00+00:00",
         "294.0",
         "0.9075",
         "39.0",
         "39.0"
        ],
        [
         "max",
         "200.0",
         "176.0",
         "2017-11-30 16:00:00+00:00",
         "2017-11-30 16:00:00+00:00",
         "3512.0",
         "20.03",
         "93.0",
         "92.0"
        ],
        [
         "std",
         "57.879184513951124",
         "35.084157257261595",
         null,
         null,
         "529.6801936192846",
         "2.1681585400458774",
         "20.48914162728921",
         "20.739007501826215"
        ]
       ],
       "shape": {
        "columns": 8,
        "rows": 8
       }
      },
      "text/html": [
       "<div>\n",
       "<style scoped>\n",
       "    .dataframe tbody tr th:only-of-type {\n",
       "        vertical-align: middle;\n",
       "    }\n",
       "\n",
       "    .dataframe tbody tr th {\n",
       "        vertical-align: top;\n",
       "    }\n",
       "\n",
       "    .dataframe thead th {\n",
       "        text-align: right;\n",
       "    }\n",
       "</style>\n",
       "<table border=\"1\" class=\"dataframe\">\n",
       "  <thead>\n",
       "    <tr style=\"text-align: right;\">\n",
       "      <th></th>\n",
       "      <th>trip_id</th>\n",
       "      <th>cab_id</th>\n",
       "      <th>start_ts</th>\n",
       "      <th>end_ts</th>\n",
       "      <th>duration_seconds</th>\n",
       "      <th>distance_miles</th>\n",
       "      <th>pickup_location_id</th>\n",
       "      <th>dropoff_location_id</th>\n",
       "    </tr>\n",
       "  </thead>\n",
       "  <tbody>\n",
       "    <tr>\n",
       "      <th>count</th>\n",
       "      <td>200.000000</td>\n",
       "      <td>200.000000</td>\n",
       "      <td>200</td>\n",
       "      <td>200</td>\n",
       "      <td>200.000000</td>\n",
       "      <td>200.000000</td>\n",
       "      <td>200.000000</td>\n",
       "      <td>200.000000</td>\n",
       "    </tr>\n",
       "    <tr>\n",
       "      <th>mean</th>\n",
       "      <td>100.500000</td>\n",
       "      <td>49.080000</td>\n",
       "      <td>2017-11-16 ...</td>\n",
       "      <td>2017-11-16 ...</td>\n",
       "      <td>290.945000</td>\n",
       "      <td>0.866450</td>\n",
       "      <td>25.790000</td>\n",
       "      <td>24.710000</td>\n",
       "    </tr>\n",
       "    <tr>\n",
       "      <th>min</th>\n",
       "      <td>1.000000</td>\n",
       "      <td>0.000000</td>\n",
       "      <td>2017-11-01 ...</td>\n",
       "      <td>2017-11-01 ...</td>\n",
       "      <td>0.000000</td>\n",
       "      <td>0.000000</td>\n",
       "      <td>0.000000</td>\n",
       "      <td>0.000000</td>\n",
       "    </tr>\n",
       "    <tr>\n",
       "      <th>25%</th>\n",
       "      <td>50.750000</td>\n",
       "      <td>15.750000</td>\n",
       "      <td>2017-11-08 ...</td>\n",
       "      <td>2017-11-08 ...</td>\n",
       "      <td>5.500000</td>\n",
       "      <td>0.000000</td>\n",
       "      <td>11.000000</td>\n",
       "      <td>9.000000</td>\n",
       "    </tr>\n",
       "    <tr>\n",
       "      <th>50%</th>\n",
       "      <td>100.500000</td>\n",
       "      <td>46.000000</td>\n",
       "      <td>2017-11-17 ...</td>\n",
       "      <td>2017-11-17 ...</td>\n",
       "      <td>120.000000</td>\n",
       "      <td>0.300000</td>\n",
       "      <td>19.000000</td>\n",
       "      <td>17.000000</td>\n",
       "    </tr>\n",
       "    <tr>\n",
       "      <th>75%</th>\n",
       "      <td>150.250000</td>\n",
       "      <td>72.000000</td>\n",
       "      <td>2017-11-23 ...</td>\n",
       "      <td>2017-11-23 ...</td>\n",
       "      <td>294.000000</td>\n",
       "      <td>0.907500</td>\n",
       "      <td>39.000000</td>\n",
       "      <td>39.000000</td>\n",
       "    </tr>\n",
       "    <tr>\n",
       "      <th>max</th>\n",
       "      <td>200.000000</td>\n",
       "      <td>176.000000</td>\n",
       "      <td>2017-11-30 ...</td>\n",
       "      <td>2017-11-30 ...</td>\n",
       "      <td>3512.000000</td>\n",
       "      <td>20.030000</td>\n",
       "      <td>93.000000</td>\n",
       "      <td>92.000000</td>\n",
       "    </tr>\n",
       "    <tr>\n",
       "      <th>std</th>\n",
       "      <td>57.879185</td>\n",
       "      <td>35.084157</td>\n",
       "      <td>NaN</td>\n",
       "      <td>NaN</td>\n",
       "      <td>529.680194</td>\n",
       "      <td>2.168159</td>\n",
       "      <td>20.489142</td>\n",
       "      <td>20.739008</td>\n",
       "    </tr>\n",
       "  </tbody>\n",
       "</table>\n",
       "</div>"
      ],
      "text/plain": [
       "          trip_id      cab_id        start_ts          end_ts  duration_seconds  distance_miles  pickup_location_id  dropoff_location_id\n",
       "count  200.000000  200.000000             200             200      200.000000        200.000000      200.000000          200.000000     \n",
       "mean   100.500000   49.080000  2017-11-16 ...  2017-11-16 ...      290.945000          0.866450       25.790000           24.710000     \n",
       "min      1.000000    0.000000  2017-11-01 ...  2017-11-01 ...        0.000000          0.000000        0.000000            0.000000     \n",
       "25%     50.750000   15.750000  2017-11-08 ...  2017-11-08 ...        5.500000          0.000000       11.000000            9.000000     \n",
       "50%    100.500000   46.000000  2017-11-17 ...  2017-11-17 ...      120.000000          0.300000       19.000000           17.000000     \n",
       "75%    150.250000   72.000000  2017-11-23 ...  2017-11-23 ...      294.000000          0.907500       39.000000           39.000000     \n",
       "max    200.000000  176.000000  2017-11-30 ...  2017-11-30 ...     3512.000000         20.030000       93.000000           92.000000     \n",
       "std     57.879185   35.084157             NaN             NaN      529.680194          2.168159       20.489142           20.739008     "
      ]
     },
     "execution_count": 14,
     "metadata": {},
     "output_type": "execute_result"
    }
   ],
   "source": [
    "# Descriptive statistics for df_trips_clean dataset\n",
    "df_trips_clean.describe(include='all')"
   ]
  },
  {
   "cell_type": "code",
   "execution_count": 15,
   "id": "58e4bab7",
   "metadata": {},
   "outputs": [
    {
     "data": {
      "application/vnd.microsoft.datawrangler.viewer.v0+json": {
       "columns": [
        {
         "name": "index",
         "rawType": "object",
         "type": "string"
        },
        {
         "name": "record_id",
         "rawType": "float64",
         "type": "float"
        },
        {
         "name": "date_and_time",
         "rawType": "object",
         "type": "unknown"
        },
        {
         "name": "temperature",
         "rawType": "float64",
         "type": "float"
        },
        {
         "name": "description",
         "rawType": "object",
         "type": "unknown"
        }
       ],
       "ref": "45d07b9f-1d6e-4347-b616-58bb0d805e27",
       "rows": [
        [
         "count",
         "697.0",
         "697",
         "697.0",
         "697"
        ],
        [
         "unique",
         null,
         null,
         null,
         "19"
        ],
        [
         "top",
         null,
         null,
         null,
         "sky_is_clear"
        ],
        [
         "freq",
         null,
         null,
         null,
         "178"
        ],
        [
         "mean",
         "349.0",
         "2017-11-15 12:00:00+00:00",
         "277.5488637015781",
         null
        ],
        [
         "min",
         "1.0",
         "2017-11-01 00:00:00+00:00",
         "265.74",
         null
        ],
        [
         "25%",
         "175.0",
         "2017-11-08 06:00:00+00:00",
         "274.24",
         null
        ],
        [
         "50%",
         "349.0",
         "2017-11-15 12:00:00+00:00",
         "277.41",
         null
        ],
        [
         "75%",
         "523.0",
         "2017-11-22 18:00:00+00:00",
         "280.98",
         null
        ],
        [
         "max",
         "697.0",
         "2017-11-30 00:00:00+00:00",
         "289.76",
         null
        ],
        [
         "std",
         "201.35085464598023",
         null,
         "4.515403059562246",
         null
        ]
       ],
       "shape": {
        "columns": 4,
        "rows": 11
       }
      },
      "text/html": [
       "<div>\n",
       "<style scoped>\n",
       "    .dataframe tbody tr th:only-of-type {\n",
       "        vertical-align: middle;\n",
       "    }\n",
       "\n",
       "    .dataframe tbody tr th {\n",
       "        vertical-align: top;\n",
       "    }\n",
       "\n",
       "    .dataframe thead th {\n",
       "        text-align: right;\n",
       "    }\n",
       "</style>\n",
       "<table border=\"1\" class=\"dataframe\">\n",
       "  <thead>\n",
       "    <tr style=\"text-align: right;\">\n",
       "      <th></th>\n",
       "      <th>record_id</th>\n",
       "      <th>date_and_time</th>\n",
       "      <th>temperature</th>\n",
       "      <th>description</th>\n",
       "    </tr>\n",
       "  </thead>\n",
       "  <tbody>\n",
       "    <tr>\n",
       "      <th>count</th>\n",
       "      <td>697.000000</td>\n",
       "      <td>697</td>\n",
       "      <td>697.000000</td>\n",
       "      <td>697</td>\n",
       "    </tr>\n",
       "    <tr>\n",
       "      <th>unique</th>\n",
       "      <td>NaN</td>\n",
       "      <td>NaN</td>\n",
       "      <td>NaN</td>\n",
       "      <td>19</td>\n",
       "    </tr>\n",
       "    <tr>\n",
       "      <th>top</th>\n",
       "      <td>NaN</td>\n",
       "      <td>NaN</td>\n",
       "      <td>NaN</td>\n",
       "      <td>sky_is_clear</td>\n",
       "    </tr>\n",
       "    <tr>\n",
       "      <th>freq</th>\n",
       "      <td>NaN</td>\n",
       "      <td>NaN</td>\n",
       "      <td>NaN</td>\n",
       "      <td>178</td>\n",
       "    </tr>\n",
       "    <tr>\n",
       "      <th>mean</th>\n",
       "      <td>349.000000</td>\n",
       "      <td>2017-11-15 ...</td>\n",
       "      <td>277.548864</td>\n",
       "      <td>NaN</td>\n",
       "    </tr>\n",
       "    <tr>\n",
       "      <th>min</th>\n",
       "      <td>1.000000</td>\n",
       "      <td>2017-11-01 ...</td>\n",
       "      <td>265.740000</td>\n",
       "      <td>NaN</td>\n",
       "    </tr>\n",
       "    <tr>\n",
       "      <th>25%</th>\n",
       "      <td>175.000000</td>\n",
       "      <td>2017-11-08 ...</td>\n",
       "      <td>274.240000</td>\n",
       "      <td>NaN</td>\n",
       "    </tr>\n",
       "    <tr>\n",
       "      <th>50%</th>\n",
       "      <td>349.000000</td>\n",
       "      <td>2017-11-15 ...</td>\n",
       "      <td>277.410000</td>\n",
       "      <td>NaN</td>\n",
       "    </tr>\n",
       "    <tr>\n",
       "      <th>75%</th>\n",
       "      <td>523.000000</td>\n",
       "      <td>2017-11-22 ...</td>\n",
       "      <td>280.980000</td>\n",
       "      <td>NaN</td>\n",
       "    </tr>\n",
       "    <tr>\n",
       "      <th>max</th>\n",
       "      <td>697.000000</td>\n",
       "      <td>2017-11-30 ...</td>\n",
       "      <td>289.760000</td>\n",
       "      <td>NaN</td>\n",
       "    </tr>\n",
       "    <tr>\n",
       "      <th>std</th>\n",
       "      <td>201.350855</td>\n",
       "      <td>NaN</td>\n",
       "      <td>4.515403</td>\n",
       "      <td>NaN</td>\n",
       "    </tr>\n",
       "  </tbody>\n",
       "</table>\n",
       "</div>"
      ],
      "text/plain": [
       "         record_id   date_and_time  temperature   description\n",
       "count   697.000000             697   697.000000           697\n",
       "unique         NaN             NaN          NaN            19\n",
       "top            NaN             NaN          NaN  sky_is_clear\n",
       "freq           NaN             NaN          NaN           178\n",
       "mean    349.000000  2017-11-15 ...   277.548864           NaN\n",
       "min       1.000000  2017-11-01 ...   265.740000           NaN\n",
       "25%     175.000000  2017-11-08 ...   274.240000           NaN\n",
       "50%     349.000000  2017-11-15 ...   277.410000           NaN\n",
       "75%     523.000000  2017-11-22 ...   280.980000           NaN\n",
       "max     697.000000  2017-11-30 ...   289.760000           NaN\n",
       "std     201.350855             NaN     4.515403           NaN"
      ]
     },
     "execution_count": 15,
     "metadata": {},
     "output_type": "execute_result"
    }
   ],
   "source": [
    "# Descriptive statistics for df_weather_records_clean dataset\n",
    "df_weather_records_clean.describe(include='all')"
   ]
  },
  {
   "cell_type": "markdown",
   "id": "7716c535",
   "metadata": {},
   "source": [
    "#### 3.1.2 Descriptive statistics for name dataset, quantitive values."
   ]
  },
  {
   "cell_type": "markdown",
   "id": "14db2021",
   "metadata": {},
   "source": [
    "<table>\n",
    "  <thead>\n",
    "    <tr>\n",
    "      <th>CV (%)</th>\n",
    "      <th>Interpretation for Coefficient of Variation</th>\n",
    "    </tr>\n",
    "  </thead>\n",
    "  <tbody>\n",
    "    <tr>\n",
    "      <td><small><strong>0–10%</strong></small></td>\n",
    "      <td><small><strong>Very low</strong> variability → <strong>very reliable</strong> Mean</small></td>\n",
    "    </tr>\n",
    "    <tr>\n",
    "      <td><small><strong>10–20%</strong></small></td>\n",
    "      <td><small><strong>Moderate</strong> variability → <strong>reliable</strong> Mean</small></td>\n",
    "    </tr>\n",
    "    <tr>\n",
    "      <td><small><strong>20–30%</strong></small></td>\n",
    "      <td><small><strong>Considerable</strong> variability → <strong>some what skewed</strong> Mean</small></td>\n",
    "    </tr>\n",
    "    <tr>\n",
    "      <td><small><strong>>30%</strong></small></td>\n",
    "      <td><small>High<strong> variability</strong> → <strong>prefer</strong> Median</small></td>\n",
    "    </tr>\n",
    "  </tbody>\n",
    "</table>\n"
   ]
  },
  {
   "cell_type": "code",
   "execution_count": 16,
   "id": "add13c8a",
   "metadata": {},
   "outputs": [
    {
     "data": {
      "application/vnd.microsoft.datawrangler.viewer.v0+json": {
       "columns": [
        {
         "name": "index",
         "rawType": "object",
         "type": "string"
        },
        {
         "name": "duration_seconds",
         "rawType": "float64",
         "type": "float"
        }
       ],
       "ref": "eeaeb55a-bac2-402a-8f84-6caa0216db2a",
       "rows": [
        [
         "count",
         "200.0"
        ],
        [
         "mean",
         "290.945"
        ],
        [
         "std",
         "529.6801936192846"
        ],
        [
         "min",
         "0.0"
        ],
        [
         "25%",
         "5.5"
        ],
        [
         "50%",
         "120.0"
        ],
        [
         "75%",
         "294.0"
        ],
        [
         "max",
         "3512.0"
        ]
       ],
       "shape": {
        "columns": 1,
        "rows": 8
       }
      },
      "text/plain": [
       "count     200.000000\n",
       "mean      290.945000\n",
       "std       529.680194\n",
       "min         0.000000\n",
       "25%         5.500000\n",
       "50%       120.000000\n",
       "75%       294.000000\n",
       "max      3512.000000\n",
       "Name: duration_seconds, dtype: float64"
      ]
     },
     "execution_count": 16,
     "metadata": {},
     "output_type": "execute_result"
    }
   ],
   "source": [
    "df_trips_clean['duration_seconds'].describe()"
   ]
  },
  {
   "cell_type": "code",
   "execution_count": 17,
   "id": "57728fab",
   "metadata": {},
   "outputs": [
    {
     "data": {
      "application/vnd.microsoft.datawrangler.viewer.v0+json": {
       "columns": [
        {
         "name": "index",
         "rawType": "object",
         "type": "string"
        },
        {
         "name": "distance_miles",
         "rawType": "float64",
         "type": "float"
        }
       ],
       "ref": "8b349efa-8a1d-431f-b0b3-594bf0f0e9c9",
       "rows": [
        [
         "count",
         "200.0"
        ],
        [
         "mean",
         "0.8664499999999999"
        ],
        [
         "std",
         "2.1681585400458774"
        ],
        [
         "min",
         "0.0"
        ],
        [
         "25%",
         "0.0"
        ],
        [
         "50%",
         "0.3"
        ],
        [
         "75%",
         "0.9075"
        ],
        [
         "max",
         "20.03"
        ]
       ],
       "shape": {
        "columns": 1,
        "rows": 8
       }
      },
      "text/plain": [
       "count    200.000000\n",
       "mean       0.866450\n",
       "std        2.168159\n",
       "min        0.000000\n",
       "25%        0.000000\n",
       "50%        0.300000\n",
       "75%        0.907500\n",
       "max       20.030000\n",
       "Name: distance_miles, dtype: float64"
      ]
     },
     "execution_count": 17,
     "metadata": {},
     "output_type": "execute_result"
    }
   ],
   "source": [
    "df_trips_clean['distance_miles'].describe()"
   ]
  },
  {
   "cell_type": "code",
   "execution_count": 18,
   "id": "9c29769e",
   "metadata": {},
   "outputs": [
    {
     "data": {
      "text/html": [
       "> Coefficient of variation for column <i>'duration_seconds'</i>: <b>182.06 %</b>"
      ],
      "text/plain": [
       "<IPython.core.display.HTML object>"
      ]
     },
     "metadata": {},
     "output_type": "display_data"
    },
    {
     "data": {
      "text/html": [
       "> High variability: <i>mean may be misleading</i>. Recommended central measure: <b>median</b>."
      ],
      "text/plain": [
       "<IPython.core.display.HTML object>"
      ]
     },
     "metadata": {},
     "output_type": "display_data"
    },
    {
     "name": "stdout",
     "output_type": "stream",
     "text": [
      "\n"
     ]
    }
   ],
   "source": [
    "# Evaluate the coefficient of variation to select the proper measure of central tendency\n",
    "evaluate_central_trend(df_trips_clean, 'duration_seconds')"
   ]
  },
  {
   "cell_type": "code",
   "execution_count": 19,
   "id": "61754cbb",
   "metadata": {},
   "outputs": [
    {
     "data": {
      "text/html": [
       "> Lower outlier threshold for column <i>'duration_seconds'</i>: <b>0</b>"
      ],
      "text/plain": [
       "<IPython.core.display.HTML object>"
      ]
     },
     "metadata": {},
     "output_type": "display_data"
    },
    {
     "data": {
      "text/html": [
       "> Upper outlier threshold for column <i>'duration_seconds'</i>: <b>726.75</b>"
      ],
      "text/plain": [
       "<IPython.core.display.HTML object>"
      ]
     },
     "metadata": {},
     "output_type": "display_data"
    },
    {
     "data": {
      "text/plain": [
       "(Empty DataFrame\n",
       " Columns: [trip_id, cab_id, start_ts, end_ts, duration_seconds, distance_miles, pickup_location_id, dropoff_location_id]\n",
       " Index: [],\n",
       "      trip_id  cab_id        start_ts          end_ts  duration_seconds  distance_miles  pickup_location_id  dropoff_location_id\n",
       " 33        34     152 2017-11-18 0... 2017-11-18 0...            1200              6.00              93                  87     \n",
       " 46        47      52 2017-11-16 1... 2017-11-16 1...            2814              6.60              90                  88     \n",
       " 48        49      58 2017-11-23 0... 2017-11-23 0...            1380              2.10              78                  60     \n",
       " 74        75       9 2017-11-26 0... 2017-11-26 0...            1665              8.70              87                  92     \n",
       " 81        82      88 2017-11-07 0... 2017-11-07 0...            3512             20.03               7                  44     \n",
       " 93        94      33 2017-11-05 1... 2017-11-05 1...            1793              4.50              64                  65     \n",
       " 94        95      33 2017-11-09 1... 2017-11-09 1...            3186             15.10              85                  82     \n",
       " 102      103      43 2017-11-04 1... 2017-11-04 1...             841              0.90              47                  49     \n",
       " 103      104      99 2017-11-09 1... 2017-11-09 1...            1620              0.00               5                   2     \n",
       " 110      111      40 2017-11-13 1... 2017-11-13 1...            1383              0.90              47                  39     \n",
       " 114      115      46 2017-11-23 1... 2017-11-23 1...             885              1.90              65                  56     \n",
       " 116      117      46 2017-11-09 2... 2017-11-09 2...             840              2.80              76                  73     \n",
       " 132      133      52 2017-11-13 2... 2017-11-13 2...            1400              0.00              10                  12     \n",
       " 155      156      98 2017-11-19 0... 2017-11-19 0...             780              0.00              13                   9     \n",
       " 177      178      26 2017-11-04 1... 2017-11-04 1...            2340             11.76              82                  85     \n",
       " 180      181       1 2017-11-08 1... 2017-11-08 2...            2400              3.50              51                  58     \n",
       " 182      183      18 2017-11-01 0... 2017-11-01 0...            1495              4.09              66                  63     )"
      ]
     },
     "execution_count": 19,
     "metadata": {},
     "output_type": "execute_result"
    }
   ],
   "source": [
    "# Evaluate boundary thresholds and detect potential outliers\n",
    "outlier_limit_bounds(df_trips_clean, 'duration_seconds', bound='both', clamp_zero=True)"
   ]
  },
  {
   "cell_type": "code",
   "execution_count": 20,
   "id": "cf1cf890",
   "metadata": {},
   "outputs": [
    {
     "data": {
      "text/html": [
       "> Coefficient of variation for column <i>'distance_miles'</i>: <b>250.23 %</b>"
      ],
      "text/plain": [
       "<IPython.core.display.HTML object>"
      ]
     },
     "metadata": {},
     "output_type": "display_data"
    },
    {
     "data": {
      "text/html": [
       "> High variability: <i>mean may be misleading</i>. Recommended central measure: <b>median</b>."
      ],
      "text/plain": [
       "<IPython.core.display.HTML object>"
      ]
     },
     "metadata": {},
     "output_type": "display_data"
    },
    {
     "name": "stdout",
     "output_type": "stream",
     "text": [
      "\n"
     ]
    }
   ],
   "source": [
    "# Evaluate the coefficient of variation to select the proper measure of central tendency\n",
    "evaluate_central_trend(df_trips_clean, 'distance_miles')"
   ]
  },
  {
   "cell_type": "code",
   "execution_count": 21,
   "id": "823d3095",
   "metadata": {},
   "outputs": [
    {
     "data": {
      "text/html": [
       "> Lower outlier threshold for column <i>'distance_miles'</i>: <b>0</b>"
      ],
      "text/plain": [
       "<IPython.core.display.HTML object>"
      ]
     },
     "metadata": {},
     "output_type": "display_data"
    },
    {
     "data": {
      "text/html": [
       "> Upper outlier threshold for column <i>'distance_miles'</i>: <b>2.26875</b>"
      ],
      "text/plain": [
       "<IPython.core.display.HTML object>"
      ]
     },
     "metadata": {},
     "output_type": "display_data"
    },
    {
     "data": {
      "text/plain": [
       "(Empty DataFrame\n",
       " Columns: [trip_id, cab_id, start_ts, end_ts, duration_seconds, distance_miles, pickup_location_id, dropoff_location_id]\n",
       " Index: [],\n",
       "      trip_id  cab_id        start_ts          end_ts  duration_seconds  distance_miles  pickup_location_id  dropoff_location_id\n",
       " 33        34     152 2017-11-18 0... 2017-11-18 0...            1200              6.00              93                  87     \n",
       " 46        47      52 2017-11-16 1... 2017-11-16 1...            2814              6.60              90                  88     \n",
       " 74        75       9 2017-11-26 0... 2017-11-26 0...            1665              8.70              87                  92     \n",
       " 76        77       9 2017-11-04 0... 2017-11-04 0...             658              2.40              66                  56     \n",
       " 81        82      88 2017-11-07 0... 2017-11-07 0...            3512             20.03               7                  44     \n",
       " 93        94      33 2017-11-05 1... 2017-11-05 1...            1793              4.50              64                  65     \n",
       " 94        95      33 2017-11-09 1... 2017-11-09 1...            3186             15.10              85                  82     \n",
       " 116      117      46 2017-11-09 2... 2017-11-09 2...             840              2.80              76                  73     \n",
       " 177      178      26 2017-11-04 1... 2017-11-04 1...            2340             11.76              82                  85     \n",
       " 180      181       1 2017-11-08 1... 2017-11-08 2...            2400              3.50              51                  58     \n",
       " 182      183      18 2017-11-01 0... 2017-11-01 0...            1495              4.09              66                  63     \n",
       " 189      190      78 2017-11-04 1... 2017-11-04 1...             720              2.40              57                  51     )"
      ]
     },
     "execution_count": 21,
     "metadata": {},
     "output_type": "execute_result"
    }
   ],
   "source": [
    "# Evaluate boundary thresholds and detect potential outliers\n",
    "outlier_limit_bounds(df_trips_clean, 'distance_miles', bound='both', clamp_zero=True)"
   ]
  },
  {
   "cell_type": "code",
   "execution_count": 23,
   "id": "18f0dff3",
   "metadata": {},
   "outputs": [
    {
     "data": {
      "text/html": [
       "> Coefficient of variation for column <i>'temperature'</i>: <b>1.63 %</b>"
      ],
      "text/plain": [
       "<IPython.core.display.HTML object>"
      ]
     },
     "metadata": {},
     "output_type": "display_data"
    },
    {
     "data": {
      "text/html": [
       "> Very low variability: <i>highly reliable mean</i>. Recommended central measure: <b>mean</b>."
      ],
      "text/plain": [
       "<IPython.core.display.HTML object>"
      ]
     },
     "metadata": {},
     "output_type": "display_data"
    },
    {
     "name": "stdout",
     "output_type": "stream",
     "text": [
      "\n"
     ]
    }
   ],
   "source": [
    "# Evaluate the coefficient of variation to select the proper measure of central tendency\n",
    "evaluate_central_trend(df_weather_records_clean, 'temperature')"
   ]
  },
  {
   "cell_type": "code",
   "execution_count": 24,
   "id": "f2b813e1",
   "metadata": {},
   "outputs": [
    {
     "data": {
      "text/html": [
       "> Lower outlier threshold for column <i>'temperature'</i>: <b>264.13</b>"
      ],
      "text/plain": [
       "<IPython.core.display.HTML object>"
      ]
     },
     "metadata": {},
     "output_type": "display_data"
    },
    {
     "data": {
      "text/html": [
       "> Upper outlier threshold for column <i>'temperature'</i>: <b>291.09000000000003</b>"
      ],
      "text/plain": [
       "<IPython.core.display.HTML object>"
      ]
     },
     "metadata": {},
     "output_type": "display_data"
    },
    {
     "data": {
      "text/html": [
       "> No outliers found in column <i>'temperature'</i>."
      ],
      "text/plain": [
       "<IPython.core.display.HTML object>"
      ]
     },
     "metadata": {},
     "output_type": "display_data"
    },
    {
     "data": {
      "text/plain": [
       "(Empty DataFrame\n",
       " Columns: [record_id, date_and_time, temperature, description]\n",
       " Index: [],\n",
       " Empty DataFrame\n",
       " Columns: [record_id, date_and_time, temperature, description]\n",
       " Index: [])"
      ]
     },
     "execution_count": 24,
     "metadata": {},
     "output_type": "execute_result"
    }
   ],
   "source": [
    "# Evaluate boundary thresholds and detect potential outliers\n",
    "outlier_limit_bounds(df_weather_records_clean, 'temperature', bound='both', clamp_zero=True)"
   ]
  },
  {
   "cell_type": "code",
   "execution_count": 25,
   "id": "4c834524",
   "metadata": {},
   "outputs": [
    {
     "data": {
      "text/html": [
       "\n",
       "    <h4>Normality Tests for <code>duration_seconds</code> (n=200)</h4>\n",
       "    <table border=\"1\" style=\"border-collapse:collapse; text-align:center;\">\n",
       "    <tr>\n",
       "        <th>Test</th>\n",
       "        <th>Statistic</th>\n",
       "        <th>p-value / Critical</th>\n",
       "        <th>Conclusion</th>\n",
       "        <th>Recommended for</th>\n",
       "        <th>Sensitive to</th>\n",
       "    </tr>\n",
       "    <tr><td>Shapiro-Wilk</td><td>0.5549</td><td>0.0000</td><td>Reject H₀ (Not Normal)</td><td>n ≤ 5000</td><td>General deviations</td></tr><tr><td>D’Agostino-Pearson</td><td>178.5249</td><td>0.0000</td><td>Reject H₀ (Not Normal)</td><td>n > 500</td><td>Skewness & Kurtosis</td></tr><tr><td>Anderson-Darling</td><td>27.4134</td><td>Crit: 0.7720</td><td>Reject H₀ (Not Normal)</td><td>All sample sizes</td><td>Tail behavior</td></tr></table>"
      ],
      "text/plain": [
       "<IPython.core.display.HTML object>"
      ]
     },
     "metadata": {},
     "output_type": "display_data"
    },
    {
     "data": {
      "image/png": "[encoded data removed]",
      "text/plain": [
       "<Figure size 800x600 with 1 Axes>"
      ]
     },
     "metadata": {},
     "output_type": "display_data"
    }
   ],
   "source": [
    "# Show data distribution with detailed statistical info\n",
    "plot_qq_normality_tests(df_trips_clean, 'duration_seconds')"
   ]
  },
  {
   "cell_type": "code",
   "execution_count": 27,
   "id": "a179e14a",
   "metadata": {},
   "outputs": [
    {
     "data": {
      "image/png": "[encoded data removed]",
      "text/plain": [
       "<Figure size 1500x500 with 1 Axes>"
      ]
     },
     "metadata": {},
     "output_type": "display_data"
    }
   ],
   "source": [
    "plot_horizontal_boxplot(df_trips_clean, 'duration_seconds')"
   ]
  },
  {
   "cell_type": "code",
   "execution_count": 28,
   "id": "59d08ed0",
   "metadata": {},
   "outputs": [
    {
     "data": {
      "text/html": [
       "\n",
       "    <h4>Normality Tests for <code>distance_miles</code> (n=200)</h4>\n",
       "    <table border=\"1\" style=\"border-collapse:collapse; text-align:center;\">\n",
       "    <tr>\n",
       "        <th>Test</th>\n",
       "        <th>Statistic</th>\n",
       "        <th>p-value / Critical</th>\n",
       "        <th>Conclusion</th>\n",
       "        <th>Recommended for</th>\n",
       "        <th>Sensitive to</th>\n",
       "    </tr>\n",
       "    <tr><td>Shapiro-Wilk</td><td>0.3806</td><td>0.0000</td><td>Reject H₀ (Not Normal)</td><td>n ≤ 5000</td><td>General deviations</td></tr><tr><td>D’Agostino-Pearson</td><td>270.6573</td><td>0.0000</td><td>Reject H₀ (Not Normal)</td><td>n > 500</td><td>Skewness & Kurtosis</td></tr><tr><td>Anderson-Darling</td><td>36.3357</td><td>Crit: 0.7720</td><td>Reject H₀ (Not Normal)</td><td>All sample sizes</td><td>Tail behavior</td></tr></table>"
      ],
      "text/plain": [
       "<IPython.core.display.HTML object>"
      ]
     },
     "metadata": {},
     "output_type": "display_data"
    },
    {
     "data": {
      "image/png": "[encoded data removed]",
      "text/plain": [
       "<Figure size 800x600 with 1 Axes>"
      ]
     },
     "metadata": {},
     "output_type": "display_data"
    }
   ],
   "source": [
    "# Show data distribution with detailed statistical info\n",
    "plot_qq_normality_tests(df_trips_clean, 'distance_miles')"
   ]
  },
  {
   "cell_type": "code",
   "execution_count": 29,
   "id": "9b352659",
   "metadata": {},
   "outputs": [
    {
     "data": {
      "image/png": "[encoded data removed]",
      "text/plain": [
       "<Figure size 1500x500 with 1 Axes>"
      ]
     },
     "metadata": {},
     "output_type": "display_data"
    }
   ],
   "source": [
    "plot_horizontal_boxplot(df_trips_clean, 'distance_miles')"
   ]
  },
  {
   "cell_type": "code",
   "execution_count": 30,
   "id": "4411c3db",
   "metadata": {},
   "outputs": [
    {
     "data": {
      "text/html": [
       "\n",
       "    <h4>Normality Tests for <code>temperature</code> (n=697)</h4>\n",
       "    <table border=\"1\" style=\"border-collapse:collapse; text-align:center;\">\n",
       "    <tr>\n",
       "        <th>Test</th>\n",
       "        <th>Statistic</th>\n",
       "        <th>p-value / Critical</th>\n",
       "        <th>Conclusion</th>\n",
       "        <th>Recommended for</th>\n",
       "        <th>Sensitive to</th>\n",
       "    </tr>\n",
       "    <tr><td>Shapiro-Wilk</td><td>0.9946</td><td>0.0136</td><td>Reject H₀ (Not Normal)</td><td>n ≤ 5000</td><td>General deviations</td></tr><tr><td>D’Agostino-Pearson</td><td>3.7674</td><td>0.1520</td><td>Fail to Reject H₀ (Possibly Normal)</td><td>n > 500</td><td>Skewness & Kurtosis</td></tr><tr><td>Anderson-Darling</td><td>1.3251</td><td>Crit: 0.7830</td><td>Reject H₀ (Not Normal)</td><td>All sample sizes</td><td>Tail behavior</td></tr></table>"
      ],
      "text/plain": [
       "<IPython.core.display.HTML object>"
      ]
     },
     "metadata": {},
     "output_type": "display_data"
    },
    {
     "data": {
      "image/png": "[encoded data removed]",
      "text/plain": [
       "<Figure size 800x600 with 1 Axes>"
      ]
     },
     "metadata": {},
     "output_type": "display_data"
    }
   ],
   "source": [
    "plot_qq_normality_tests(df_weather_records_clean, 'temperature')"
   ]
  },
  {
   "cell_type": "code",
   "execution_count": 32,
   "id": "c7e01055",
   "metadata": {},
   "outputs": [
    {
     "name": "stdout",
     "output_type": "stream",
     "text": [
      "✅ Using auto bins calculated by the method \"auto\"\n"
     ]
    },
    {
     "data": {
      "image/png": "[encoded data removed]",
      "text/plain": [
       "<Figure size 1500x700 with 1 Axes>"
      ]
     },
     "metadata": {},
     "output_type": "display_data"
    }
   ],
   "source": [
    "plot_distribution_dispersion_sl5000(df_weather_records_clean, 'temperature', bins='auto', rug=True, color='grey')"
   ]
  },
  {
   "cell_type": "markdown",
   "id": "1fb0d3e0",
   "metadata": {},
   "source": [
    "### 3.2 Data Visualization: Distributions and Relationships."
   ]
  },
  {
   "cell_type": "markdown",
   "id": "8943a335",
   "metadata": {},
   "source": [
    "#### 3.2.1 Covariance and Correlation Analysis."
   ]
  },
  {
   "cell_type": "markdown",
   "id": "7806eb2d",
   "metadata": {},
   "source": [
    "##### 3.2.1.1 Covariance Matrix."
   ]
  },
  {
   "cell_type": "code",
   "execution_count": null,
   "id": "092e4f33",
   "metadata": {},
   "outputs": [],
   "source": [
    "# Covariance for services\n",
    "df_xxx_feature[['column_name', 'column_name']].cov()"
   ]
  },
  {
   "cell_type": "markdown",
   "id": "85307bc4",
   "metadata": {},
   "source": [
    "##### 3.2.1.2 Correlation Matrix."
   ]
  },
  {
   "cell_type": "markdown",
   "id": "6608f86b",
   "metadata": {},
   "source": [
    "| Correlation Value     | Interpretation                |\n",
    "| --------------------- | ----------------------------- |\n",
    "| `+0.7` to `+1.0`      | Strong positive correlation   |\n",
    "| `+0.3` to `+0.7`      | Moderate positive correlation |\n",
    "| `0.0` to `+0.3`       | Weak positive correlation     |\n",
    "| `0`                   | No correlation                |\n",
    "| `-0.3` to `0`         | Weak negative correlation     |\n",
    "| `-0.7` to `-0.3`      | Moderate negative correlation |\n",
    "| `-1.0` to `-0.7`      | Strong negative correlation   |\n"
   ]
  },
  {
   "cell_type": "code",
   "execution_count": null,
   "id": "cb1e56c8",
   "metadata": {},
   "outputs": [],
   "source": [
    "# Correlation for services\n",
    "df_xxx_feature[['column_name', 'columna_name']].corr()"
   ]
  },
  {
   "cell_type": "code",
   "execution_count": null,
   "id": "f9305906",
   "metadata": {},
   "outputs": [],
   "source": [
    "evaluate_correlation(df_xxx_feature)"
   ]
  },
  {
   "cell_type": "code",
   "execution_count": null,
   "id": "d085ab8f",
   "metadata": {},
   "outputs": [],
   "source": [
    "plot_scatter_matrix(df_xxx_feature[['column_name', 'column_name']])"
   ]
  },
  {
   "cell_type": "markdown",
   "id": "77a14736",
   "metadata": {},
   "source": [
    "### 3.3 Data Visualization: Data dispersion and outliers."
   ]
  },
  {
   "cell_type": "markdown",
   "id": "69e97fa4",
   "metadata": {},
   "source": [
    "3.3.1 Data dispersion and outliers for ..."
   ]
  },
  {
   "cell_type": "code",
   "execution_count": null,
   "id": "efde93fe",
   "metadata": {},
   "outputs": [],
   "source": [
    "# xxx Distribution Frequency and Frequency density\n",
    "plot_frequency_density(df_xxx_feature['column_name'], bins=np.arange(min, max, step), color='grey', title='Frequency Density of name', \n",
    "                       xlabel='Name (units)', ylabel='Density', xticks_range=(min, max, step), show_kde=True, rotation=0)"
   ]
  },
  {
   "cell_type": "code",
   "execution_count": null,
   "id": "4531dbd4",
   "metadata": {},
   "outputs": [],
   "source": [
    "# xxx data dispersion\n",
    "plot_boxplots(ds_list=[df_xxx_feature['column_name']], xlabels=['name'], ylabel='Values', title='Name Data dispersion', \n",
    "              yticks_range=(min, max, step), rotation=0, color=['grey'])"
   ]
  },
  {
   "cell_type": "markdown",
   "id": "7bc91fb5",
   "metadata": {},
   "source": [
    "#### 3.4 Data visualization for ..."
   ]
  },
  {
   "cell_type": "markdown",
   "id": "fb47c1e3",
   "metadata": {},
   "source": [
    "3.4.1 Data visalization for ..."
   ]
  },
  {
   "cell_type": "code",
   "execution_count": null,
   "id": "e9847fa8",
   "metadata": {},
   "outputs": [],
   "source": [
    "# Plots for insights"
   ]
  },
  {
   "cell_type": "markdown",
   "id": "9e82ace3",
   "metadata": {},
   "source": [
    "## 4. Conclusions and key insights"
   ]
  },
  {
   "cell_type": "markdown",
   "id": "3ae4b02d",
   "metadata": {},
   "source": [
    "### 🎯 Key Findings\n",
    "\n",
    "#### Behavioral Insights\n",
    "\n",
    "- **XXX**: xxx \n",
    "\n",
    "#### Other Insights\n",
    "\n",
    "- **XXX**: xxx \n",
    "\n",
    "### Final Takeaways\n",
    "\n",
    "- **XXX**: xxx \n",
    "\n"
   ]
  }
 ],
 "metadata": {
  "kernelspec": {
   "display_name": "Win11_Python-Mature-PipVenv-Github-3.10",
   "language": "python",
   "name": "python3"
  },
  "language_info": {
   "codemirror_mode": {
    "name": "ipython",
    "version": 3
   },
   "file_extension": ".py",
   "mimetype": "text/x-python",
   "name": "python",
   "nbconvert_exporter": "python",
   "pygments_lexer": "ipython3",
   "version": "3.10.0"
  }
 },
 "nbformat": 4,
 "nbformat_minor": 5
}
