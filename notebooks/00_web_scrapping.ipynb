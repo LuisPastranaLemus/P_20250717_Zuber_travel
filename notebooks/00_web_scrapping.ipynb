{
 "cells": [
  {
   "cell_type": "markdown",
   "id": "2d50323a",
   "metadata": {},
   "source": []
  },
  {
   "cell_type": "code",
   "execution_count": 2,
   "id": "960e0f01",
   "metadata": {},
   "outputs": [],
   "source": [
    "from pathlib import Path\n",
    "import sys\n",
    "\n",
    "# Define project root dynamically, gets the current directory from which the notebook belongs and moves one level upper\n",
    "project_root = Path.cwd().parent\n",
    "\n",
    "# Add src to sys.path if it is not already\n",
    "if str(project_root) not in sys.path:\n",
    "\n",
    "    sys.path.append(str(project_root))\n",
    "\n",
    "# Import function directly (more controlled than import *)\n",
    "from src import *\n",
    "\n",
    "\n",
    "from IPython.display import display, HTML\n",
    "import os"
   ]
  },
  {
   "cell_type": "markdown",
   "id": "eb357adc",
   "metadata": {},
   "source": [
    "#### __1 Data Parsing__\n",
    " \n",
    "Weather data source for Chicago in November 2017 from the website:\n",
    "\n",
    "[https://practicum-content.s3.us-west-1.amazonaws.com/data-analyst-eng/moved_chicago_weather_2017.html]\n"
   ]
  },
  {
   "cell_type": "code",
   "execution_count": 3,
   "id": "1959fddf",
   "metadata": {},
   "outputs": [],
   "source": [
    "import requests\n",
    "from bs4 import BeautifulSoup\n",
    "import pandas as pd\n",
    "\n",
    "URL = 'https://practicum-content.s3.us-west-1.amazonaws.com/data-analyst-eng/moved_chicago_weather_2017.html'\n",
    "\n",
    "response = requests.get(URL)"
   ]
  },
  {
   "cell_type": "code",
   "execution_count": 4,
   "id": "c02b7ff6",
   "metadata": {},
   "outputs": [
    {
     "data": {
      "text/plain": [
       "<Response [200]>"
      ]
     },
     "execution_count": 4,
     "metadata": {},
     "output_type": "execute_result"
    }
   ],
   "source": [
    "response"
   ]
  },
  {
   "cell_type": "code",
   "execution_count": 5,
   "id": "e1c18837",
   "metadata": {},
   "outputs": [],
   "source": [
    "if response.status_code == 200:\n",
    "    df_weather_records = pd.read_html(URL)[0] # pandas method to get tables within HTML\n",
    "\n",
    "else:\n",
    "    print(\"> Error: API query - \", response.status_code)\n",
    "    "
   ]
  },
  {
   "cell_type": "code",
   "execution_count": 9,
   "id": "65390104",
   "metadata": {},
   "outputs": [
    {
     "data": {
      "application/vnd.microsoft.datawrangler.viewer.v0+json": {
       "columns": [
        {
         "name": "index",
         "rawType": "int64",
         "type": "integer"
        },
        {
         "name": "Date and time",
         "rawType": "object",
         "type": "string"
        },
        {
         "name": "Temperature",
         "rawType": "float64",
         "type": "float"
        },
        {
         "name": "Description",
         "rawType": "object",
         "type": "string"
        }
       ],
       "ref": "c85e13cd-7cce-4542-a092-c3d12ceb209a",
       "rows": [
        [
         "0",
         "2017-11-01 00:00:00",
         "276.15",
         "broken clouds"
        ],
        [
         "1",
         "2017-11-01 01:00:00",
         "275.7",
         "scattered clouds"
        ],
        [
         "2",
         "2017-11-01 02:00:00",
         "275.61",
         "overcast clouds"
        ],
        [
         "3",
         "2017-11-01 03:00:00",
         "275.35",
         "broken clouds"
        ],
        [
         "4",
         "2017-11-01 04:00:00",
         "275.24",
         "broken clouds"
        ],
        [
         "5",
         "2017-11-01 05:00:00",
         "275.05",
         "overcast clouds"
        ],
        [
         "6",
         "2017-11-01 06:00:00",
         "275.14",
         "overcast clouds"
        ],
        [
         "7",
         "2017-11-01 07:00:00",
         "275.23",
         "overcast clouds"
        ],
        [
         "8",
         "2017-11-01 08:00:00",
         "275.23",
         "overcast clouds"
        ],
        [
         "9",
         "2017-11-01 09:00:00",
         "275.32",
         "overcast clouds"
        ],
        [
         "10",
         "2017-11-01 10:00:00",
         "275.23",
         "overcast clouds"
        ],
        [
         "11",
         "2017-11-01 11:00:00",
         "275.51",
         "overcast clouds"
        ],
        [
         "12",
         "2017-11-01 12:00:00",
         "275.69",
         "overcast clouds"
        ],
        [
         "13",
         "2017-11-01 13:00:00",
         "275.79",
         "overcast clouds"
        ],
        [
         "14",
         "2017-11-01 14:00:00",
         "275.85",
         "broken clouds"
        ],
        [
         "15",
         "2017-11-01 15:00:00",
         "276.6",
         "broken clouds"
        ],
        [
         "16",
         "2017-11-01 16:00:00",
         "277.54",
         "sky is clear"
        ],
        [
         "17",
         "2017-11-01 17:00:00",
         "278.32",
         "overcast clouds"
        ],
        [
         "18",
         "2017-11-01 18:00:00",
         "279.35",
         "overcast clouds"
        ],
        [
         "19",
         "2017-11-01 19:00:00",
         "279.52",
         "overcast clouds"
        ],
        [
         "20",
         "2017-11-01 20:00:00",
         "279.7",
         "overcast clouds"
        ],
        [
         "21",
         "2017-11-01 21:00:00",
         "279.34",
         "mist"
        ],
        [
         "22",
         "2017-11-01 22:00:00",
         "278.93",
         "mist"
        ],
        [
         "23",
         "2017-11-01 23:00:00",
         "278.51",
         "mist"
        ],
        [
         "24",
         "2017-11-02 00:00:00",
         "278.32",
         "mist"
        ],
        [
         "25",
         "2017-11-02 01:00:00",
         "278.42",
         "mist"
        ],
        [
         "26",
         "2017-11-02 02:00:00",
         "278.85",
         "drizzle"
        ],
        [
         "27",
         "2017-11-02 03:00:00",
         "279.06",
         "light rain"
        ],
        [
         "28",
         "2017-11-02 04:00:00",
         "279.55",
         "light rain"
        ],
        [
         "29",
         "2017-11-02 05:00:00",
         "279.75",
         "light rain"
        ],
        [
         "30",
         "2017-11-02 06:00:00",
         "280.35",
         "light rain"
        ],
        [
         "31",
         "2017-11-02 07:00:00",
         "280.6",
         "moderate rain"
        ],
        [
         "32",
         "2017-11-02 08:00:00",
         "280.84",
         "fog"
        ],
        [
         "33",
         "2017-11-02 09:00:00",
         "281.13",
         "fog"
        ],
        [
         "34",
         "2017-11-02 10:00:00",
         "281.34",
         "fog"
        ],
        [
         "35",
         "2017-11-02 11:00:00",
         "281.54",
         "fog"
        ],
        [
         "36",
         "2017-11-02 12:00:00",
         "281.44",
         "light rain"
        ],
        [
         "37",
         "2017-11-02 13:00:00",
         "281.94",
         "fog"
        ],
        [
         "38",
         "2017-11-02 14:00:00",
         "281.92",
         "fog"
        ],
        [
         "39",
         "2017-11-02 15:00:00",
         "282.34",
         "light intensity drizzle"
        ],
        [
         "40",
         "2017-11-02 16:00:00",
         "282.54",
         "light intensity drizzle"
        ],
        [
         "41",
         "2017-11-02 17:00:00",
         "283.33",
         "mist"
        ],
        [
         "42",
         "2017-11-02 18:00:00",
         "283.63",
         "mist"
        ],
        [
         "43",
         "2017-11-02 19:00:00",
         "283.54",
         "light intensity drizzle"
        ],
        [
         "44",
         "2017-11-02 20:00:00",
         "283.25",
         "moderate rain"
        ],
        [
         "45",
         "2017-11-02 21:00:00",
         "282.94",
         "light rain"
        ],
        [
         "46",
         "2017-11-02 22:00:00",
         "283.04",
         "drizzle"
        ],
        [
         "47",
         "2017-11-02 23:00:00",
         "282.84",
         "drizzle"
        ],
        [
         "48",
         "2017-11-03 00:00:00",
         "282.68",
         "moderate rain"
        ],
        [
         "49",
         "2017-11-03 01:00:00",
         "282.41",
         "mist"
        ]
       ],
       "shape": {
        "columns": 3,
        "rows": 697
       }
      },
      "text/html": [
       "<div>\n",
       "<style scoped>\n",
       "    .dataframe tbody tr th:only-of-type {\n",
       "        vertical-align: middle;\n",
       "    }\n",
       "\n",
       "    .dataframe tbody tr th {\n",
       "        vertical-align: top;\n",
       "    }\n",
       "\n",
       "    .dataframe thead th {\n",
       "        text-align: right;\n",
       "    }\n",
       "</style>\n",
       "<table border=\"1\" class=\"dataframe\">\n",
       "  <thead>\n",
       "    <tr style=\"text-align: right;\">\n",
       "      <th></th>\n",
       "      <th>Date and time</th>\n",
       "      <th>Temperature</th>\n",
       "      <th>Description</th>\n",
       "    </tr>\n",
       "  </thead>\n",
       "  <tbody>\n",
       "    <tr>\n",
       "      <th>0</th>\n",
       "      <td>2017-11-01 ...</td>\n",
       "      <td>276.15</td>\n",
       "      <td>broken clouds</td>\n",
       "    </tr>\n",
       "    <tr>\n",
       "      <th>1</th>\n",
       "      <td>2017-11-01 ...</td>\n",
       "      <td>275.70</td>\n",
       "      <td>scattered c...</td>\n",
       "    </tr>\n",
       "    <tr>\n",
       "      <th>2</th>\n",
       "      <td>2017-11-01 ...</td>\n",
       "      <td>275.61</td>\n",
       "      <td>overcast cl...</td>\n",
       "    </tr>\n",
       "    <tr>\n",
       "      <th>3</th>\n",
       "      <td>2017-11-01 ...</td>\n",
       "      <td>275.35</td>\n",
       "      <td>broken clouds</td>\n",
       "    </tr>\n",
       "    <tr>\n",
       "      <th>4</th>\n",
       "      <td>2017-11-01 ...</td>\n",
       "      <td>275.24</td>\n",
       "      <td>broken clouds</td>\n",
       "    </tr>\n",
       "    <tr>\n",
       "      <th>...</th>\n",
       "      <td>...</td>\n",
       "      <td>...</td>\n",
       "      <td>...</td>\n",
       "    </tr>\n",
       "    <tr>\n",
       "      <th>692</th>\n",
       "      <td>2017-11-29 ...</td>\n",
       "      <td>281.34</td>\n",
       "      <td>few clouds</td>\n",
       "    </tr>\n",
       "    <tr>\n",
       "      <th>693</th>\n",
       "      <td>2017-11-29 ...</td>\n",
       "      <td>281.69</td>\n",
       "      <td>sky is clear</td>\n",
       "    </tr>\n",
       "    <tr>\n",
       "      <th>694</th>\n",
       "      <td>2017-11-29 ...</td>\n",
       "      <td>281.07</td>\n",
       "      <td>few clouds</td>\n",
       "    </tr>\n",
       "    <tr>\n",
       "      <th>695</th>\n",
       "      <td>2017-11-29 ...</td>\n",
       "      <td>280.06</td>\n",
       "      <td>sky is clear</td>\n",
       "    </tr>\n",
       "    <tr>\n",
       "      <th>696</th>\n",
       "      <td>2017-11-30 ...</td>\n",
       "      <td>278.46</td>\n",
       "      <td>sky is clear</td>\n",
       "    </tr>\n",
       "  </tbody>\n",
       "</table>\n",
       "<p>697 rows × 3 columns</p>\n",
       "</div>"
      ],
      "text/plain": [
       "      Date and time  Temperature     Description\n",
       "0    2017-11-01 ...       276.15   broken clouds\n",
       "1    2017-11-01 ...       275.70  scattered c...\n",
       "2    2017-11-01 ...       275.61  overcast cl...\n",
       "3    2017-11-01 ...       275.35   broken clouds\n",
       "4    2017-11-01 ...       275.24   broken clouds\n",
       "..              ...          ...             ...\n",
       "692  2017-11-29 ...       281.34      few clouds\n",
       "693  2017-11-29 ...       281.69    sky is clear\n",
       "694  2017-11-29 ...       281.07      few clouds\n",
       "695  2017-11-29 ...       280.06    sky is clear\n",
       "696  2017-11-30 ...       278.46    sky is clear\n",
       "\n",
       "[697 rows x 3 columns]"
      ]
     },
     "execution_count": 9,
     "metadata": {},
     "output_type": "execute_result"
    }
   ],
   "source": [
    "df_weather_records"
   ]
  },
  {
   "cell_type": "code",
   "execution_count": 6,
   "id": "955314eb",
   "metadata": {},
   "outputs": [],
   "source": [
    "df_weather_records['record_id'] = range(1, len(df_weather_records) +1)\n",
    "cols = df_weather_records.columns.tolist()\n",
    "df_weather_records = df_weather_records[[cols[-1]] + cols[:-1]]"
   ]
  },
  {
   "cell_type": "code",
   "execution_count": 7,
   "id": "bbe98201",
   "metadata": {},
   "outputs": [],
   "source": [
    "project_root = Path.cwd().parent\n",
    "processed_path = project_root / \"data\" / \"processed\" / \"clean\" / \"weather_records_ws.csv\"\n",
    "df_weather_records.to_csv(processed_path, index=False)"
   ]
  }
 ],
 "metadata": {
  "kernelspec": {
   "display_name": "Win11_Python-Mature-PipVenv-Github-3.10",
   "language": "python",
   "name": "python3"
  },
  "language_info": {
   "codemirror_mode": {
    "name": "ipython",
    "version": 3
   },
   "file_extension": ".py",
   "mimetype": "text/x-python",
   "name": "python",
   "nbconvert_exporter": "python",
   "pygments_lexer": "ipython3",
   "version": "3.10.0"
  }
 },
 "nbformat": 4,
 "nbformat_minor": 5
}
